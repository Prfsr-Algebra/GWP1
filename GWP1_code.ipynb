{
 "cells": [
  {
   "cell_type": "markdown",
   "id": "f7b5b515-9a21-4a24-8d11-2b43317c66d9",
   "metadata": {},
   "source": [
    "### Question 2"
   ]
  },
  {
   "cell_type": "markdown",
   "id": "dc533102-2334-4af5-b016-9d06a8a01d04",
   "metadata": {},
   "source": [
    "#### A. Data Source:\n",
    "[DMO website](https://www.dmo.gov.ng/fgn-bonds/fgn-bond-updates/1935-fgn-bonds-weekly-trading-highlights-report-as-at-february-06-to-february-10-2017/file)\n",
    "\n",
    "The Government security picked is from NIGERIA, the country of two of the group member"
   ]
  },
  {
   "cell_type": "markdown",
   "id": "7b7ad350-9b02-4158-9337-6bd86cfcde96",
   "metadata": {},
   "source": [
    "##### About DMO:\n",
    "DMO is the acronym od Debt Management Office, it was created in October 4, 2000 to coordinate the management of Nigeria's debt. ([Debt Management Office](https://www.dmo.gov.ng/about-dmo))"
   ]
  },
  {
   "cell_type": "markdown",
   "id": "ee62a46a-a26a-4c00-9895-0bfc8fba55a8",
   "metadata": {},
   "source": [
    "#### B. Defining the Maturity and Yield array according to the data source"
   ]
  },
  {
   "cell_type": "code",
   "execution_count": 13,
   "id": "1616cb44-e283-4cc5-afe4-8cd0b648c239",
   "metadata": {},
   "outputs": [
    {
     "data": {
      "text/html": [
       "<div>\n",
       "<style scoped>\n",
       "    .dataframe tbody tr th:only-of-type {\n",
       "        vertical-align: middle;\n",
       "    }\n",
       "\n",
       "    .dataframe tbody tr th {\n",
       "        vertical-align: top;\n",
       "    }\n",
       "\n",
       "    .dataframe thead th {\n",
       "        text-align: right;\n",
       "    }\n",
       "</style>\n",
       "<table border=\"1\" class=\"dataframe\">\n",
       "  <thead>\n",
       "    <tr style=\"text-align: right;\">\n",
       "      <th></th>\n",
       "      <th>Maturity</th>\n",
       "      <th>Yield (%)</th>\n",
       "    </tr>\n",
       "  </thead>\n",
       "  <tbody>\n",
       "    <tr>\n",
       "      <th>0</th>\n",
       "      <td>0.21</td>\n",
       "      <td>14.05</td>\n",
       "    </tr>\n",
       "    <tr>\n",
       "      <th>1</th>\n",
       "      <td>0.46</td>\n",
       "      <td>18.20</td>\n",
       "    </tr>\n",
       "    <tr>\n",
       "      <th>2</th>\n",
       "      <td>0.55</td>\n",
       "      <td>19.12</td>\n",
       "    </tr>\n",
       "    <tr>\n",
       "      <th>3</th>\n",
       "      <td>1.30</td>\n",
       "      <td>19.79</td>\n",
       "    </tr>\n",
       "    <tr>\n",
       "      <th>4</th>\n",
       "      <td>2.38</td>\n",
       "      <td>16.13</td>\n",
       "    </tr>\n",
       "    <tr>\n",
       "      <th>5</th>\n",
       "      <td>2.70</td>\n",
       "      <td>16.35</td>\n",
       "    </tr>\n",
       "    <tr>\n",
       "      <th>6</th>\n",
       "      <td>3.01</td>\n",
       "      <td>16.56</td>\n",
       "    </tr>\n",
       "    <tr>\n",
       "      <th>7</th>\n",
       "      <td>4.42</td>\n",
       "      <td>16.56</td>\n",
       "    </tr>\n",
       "    <tr>\n",
       "      <th>8</th>\n",
       "      <td>4.96</td>\n",
       "      <td>16.23</td>\n",
       "    </tr>\n",
       "    <tr>\n",
       "      <th>9</th>\n",
       "      <td>7.09</td>\n",
       "      <td>16.20</td>\n",
       "    </tr>\n",
       "    <tr>\n",
       "      <th>10</th>\n",
       "      <td>8.95</td>\n",
       "      <td>16.76</td>\n",
       "    </tr>\n",
       "    <tr>\n",
       "      <th>11</th>\n",
       "      <td>11.80</td>\n",
       "      <td>16.50</td>\n",
       "    </tr>\n",
       "    <tr>\n",
       "      <th>12</th>\n",
       "      <td>12.28</td>\n",
       "      <td>16.46</td>\n",
       "    </tr>\n",
       "    <tr>\n",
       "      <th>13</th>\n",
       "      <td>12.78</td>\n",
       "      <td>16.42</td>\n",
       "    </tr>\n",
       "    <tr>\n",
       "      <th>14</th>\n",
       "      <td>13.45</td>\n",
       "      <td>16.36</td>\n",
       "    </tr>\n",
       "    <tr>\n",
       "      <th>15</th>\n",
       "      <td>17.43</td>\n",
       "      <td>16.00</td>\n",
       "    </tr>\n",
       "    <tr>\n",
       "      <th>16</th>\n",
       "      <td>19.10</td>\n",
       "      <td>16.84</td>\n",
       "    </tr>\n",
       "  </tbody>\n",
       "</table>\n",
       "</div>"
      ],
      "text/plain": [
       "    Maturity  Yield (%)\n",
       "0       0.21      14.05\n",
       "1       0.46      18.20\n",
       "2       0.55      19.12\n",
       "3       1.30      19.79\n",
       "4       2.38      16.13\n",
       "5       2.70      16.35\n",
       "6       3.01      16.56\n",
       "7       4.42      16.56\n",
       "8       4.96      16.23\n",
       "9       7.09      16.20\n",
       "10      8.95      16.76\n",
       "11     11.80      16.50\n",
       "12     12.28      16.46\n",
       "13     12.78      16.42\n",
       "14     13.45      16.36\n",
       "15     17.43      16.00\n",
       "16     19.10      16.84"
      ]
     },
     "execution_count": 13,
     "metadata": {},
     "output_type": "execute_result"
    }
   ],
   "source": [
    "import pandas as pd\n",
    "import numpy as np\n",
    "import matplotlib.pyplot as plt\n",
    "maturities = [0.21, 0.46, 0.55, 1.30, 2.38, 2.70, 3.01, 4.42, 4.96, 7.09, 8.95, 11.80, 12.28, 12.78, 13.45, 17.43, 19.10]\n",
    "yields = [14.05, 18.20, 19.12, 19.79, 16.13, 16.35, 16.56, 16.56, 16.23, 16.20, 16.76, 16.50, 16.46, 16.42, 16.36, 16.00, 16.84 ]\n",
    "bond_dict = {\"Maturity\": maturities, \"Yield (%)\": yields}\n",
    "bond = pd.DataFrame(bond_dict)\n",
    "bond"
   ]
  },
  {
   "cell_type": "markdown",
   "id": "88ea705e-3338-426d-a3d9-542d7556048b",
   "metadata": {},
   "source": [
    "##### Plotting the yield curve for the data"
   ]
  },
  {
   "cell_type": "code",
   "execution_count": 14,
   "id": "7eeedde4-d6d7-47a0-8d70-c008efd7c83e",
   "metadata": {},
   "outputs": [
    {
     "data": {
      "image/png": "[encoded data removed]",
      "text/plain": [
       "<Figure size 1000x600 with 1 Axes>"
      ]
     },
     "metadata": {},
     "output_type": "display_data"
    }
   ],
   "source": [
    "plt.figure(figsize=(10, 6))\n",
    "plt.plot(bond[\"Maturity\"], bond[\"Yield (%)\"]/100, marker='o', linestyle='-', color='b', label='Yield Curve')\n",
    "plt.title(\"Bond Yield Curve\")\n",
    "plt.xlabel(\"Maturity (Years)\")\n",
    "plt.ylabel(\"Yield (%)\")\n",
    "plt.legend()\n",
    "plt.grid(True)\n",
    "plt.show()"
   ]
  },
  {
   "cell_type": "markdown",
   "id": "f449b70e-5b47-45b2-8bd6-4cc651a6f35e",
   "metadata": {},
   "source": [
    "#### C. Fitting Nelson Siegel model"
   ]
  },
  {
   "cell_type": "markdown",
   "id": "8ea0d6c6-1e57-4486-931a-506c8b4dbc75",
   "metadata": {},
   "source": [
    "##### Nelson-Siegel Yield Curve Formula\n",
    "\n",
    "The Nelson-Siegel yield curve is given by:\n",
    "$$\n",
    "y(t) = \\beta_0 + \\beta_1 \\cdot \\frac{1 - e^{-\\lambda t}}{\\lambda t} + \\beta_2 \\cdot \\left( \\frac{1 - e^{-\\lambda t}}{\\lambda t} - e^{-\\lambda t} \\right)\n",
    "$$\n",
    "\n",
    "Where:\n",
    "- $y(t)$: Yield for a given maturity\n",
    "- $\\beta_0$: Long-term level of interest rates\n",
    "- $\\beta_1$: Short-term component\n",
    "- $\\beta_2$: Medium-term component (hump shape)\n",
    "- $\\lambda$: Decay factor controlling the exponential rate of decline\n",
    "\n",
    "Note: lambda in the formula is the same as tau in the code, I use lambda in the formula because of the ressemblance of tau and t as t is also present in the formula\n"
   ]
  },
  {
   "cell_type": "code",
   "execution_count": 15,
   "id": "015887ab-842a-49aa-945a-40b9523424ae",
   "metadata": {},
   "outputs": [
    {
     "name": "stdout",
     "output_type": "stream",
     "text": [
      "NelsonSiegelCurve(beta0=np.float64(0.15955966972332303), beta1=np.float64(-0.15098613747320497), beta2=np.float64(0.2995051539138278), tau=np.float64(0.21970466519503065))\n",
      "Beta0: 0.15955966972332303\n",
      "Beta1: -0.15098613747320497\n",
      "Beta2: 0.2995051539138278\n",
      "Tau: 0.21970466519503065\n"
     ]
    },
    {
     "data": {
      "image/png": "[encoded data removed]",
      "text/plain": [
       "<Figure size 640x480 with 1 Axes>"
      ]
     },
     "metadata": {},
     "output_type": "display_data"
    }
   ],
   "source": [
    "from nelson_siegel_svensson.calibrate import calibrate_ns_ols\n",
    "t = np.array(bond[\"Maturity\"])\n",
    "y = np.array(bond[\"Yield (%)\"]/100)\n",
    "curve, status = calibrate_ns_ols(t, y, tau0 = 1.0) \n",
    "assert status.success \n",
    "print(curve)\n",
    "\n",
    "y_ns = curve\n",
    "t_ns = np.linspace(0.5, 30, 100)\n",
    "plt.plot(t_ns, y_ns(t_ns))\n",
    "plt.xlabel(\"Maturity\")\n",
    "plt.ylabel(\"Yield (%)\")\n",
    "plt.title(\"NS Model\")\n",
    "\n",
    "# Extract parameters\n",
    "\n",
    "beta0 = curve.beta0\n",
    "beta1 = curve.beta1\n",
    "beta2 = curve.beta2\n",
    "tau = curve.tau\n",
    "\n",
    "print(f\"Beta0: {beta0}\")\n",
    "print(f\"Beta1: {beta1}\")\n",
    "print(f\"Beta2: {beta2}\")\n",
    "print(f\"Tau: {tau}\")\n"
   ]
  },
  {
   "cell_type": "markdown",
   "id": "32d16f59-0fda-4807-bd58-c7ebdbe0fd8f",
   "metadata": {},
   "source": [
    "#### D. Cubic Spline Interpolation"
   ]
  },
  {
   "cell_type": "code",
   "execution_count": 16,
   "id": "ac9b6476-f559-4163-93d0-fb87e3388ad1",
   "metadata": {},
   "outputs": [
    {
     "name": "stdout",
     "output_type": "stream",
     "text": [
      "[0.1912 0.1656 0.165  0.1684]\n"
     ]
    }
   ],
   "source": [
    "#Selecting the Datapoints for the Interpolation\n",
    "t_s = np.array([0.55, 3.01, 11.80, 19.10])\n",
    "y_percent = np.array([19.12, 16.56, 16.50, 16.84])\n",
    "y_s = y_percent/100\n",
    "print(y_s)"
   ]
  },
  {
   "cell_type": "markdown",
   "id": "700b5160-1c17-4f10-94b7-3d8e11ce0d8a",
   "metadata": {},
   "source": [
    "##### Creating the spline equations"
   ]
  },
  {
   "cell_type": "markdown",
   "id": "659db363-8329-4985-bd6e-aabfe8a0eade",
   "metadata": {},
   "source": [
    "$$\n",
    "\\begin{aligned}\n",
    "f(x) &= a_1x^3 + b_1x^2 + c_1x + d_1 & \\text{when } 0.55 \\leq x \\leq 3.01 \\\\\n",
    "f(x) &= a_2x^3 + b_2x^2 + c_2x + d_2 & \\text{when } 3.01 \\leq x \\leq 11.80 \\\\\n",
    "f(x) &= a_3x^3 + b_3x^2 + c_3x + d_3 & \\text{when } 11.80 \\leq x \\leq 19.10\n",
    "\\end{aligned}\n",
    "$$"
   ]
  },
  {
   "cell_type": "markdown",
   "id": "c86c89a6-417f-42e6-88ca-ec4d391ec5ae",
   "metadata": {},
   "source": [
    "##### Each spline will go through two consecutive Datapoints"
   ]
  },
  {
   "cell_type": "markdown",
   "id": "75d84cd3-20b9-4674-8053-3e27bb2d9281",
   "metadata": {},
   "source": [
    "$$\n",
    "\\begin{aligned}\n",
    "a_1(0.55)^3 + b_1(0.55)^2 + c_1(0.55) + d_1 = 0.1912 ................................................. (1)\\\\\n",
    "a_1(3.01)^3 + b_1(3.01)^2 + c_1(3.01) + d_1 = 0.1656 ................................................ (2)\\\\\n",
    "a_2(3.01)^3 + b_2(3.01)^2 + c_2(3.01) + d_2  = 0.1656 ................................................ (3)\\\\\n",
    "a_2(11.80)^3 + b_2(11.80)^2 + c_2(11.80) + d_2 = 0.1650 ...............................................(4)\\\\\n",
    "a_3(11.80)^3 + b_3(11.80)^2 + c_3(11.80) + d_3= 0.1650 ...............................................(5)\\\\\n",
    "a_3(19.10)^3 + b_3(19.10)^2 + c_3(19.10) + d_3 = 0.1684 ...............................................(6)\\\\\n",
    "\\end{aligned}\n",
    "$$"
   ]
  },
  {
   "cell_type": "markdown",
   "id": "0cb6c107-aac7-42b2-90a9-b088c456b100",
   "metadata": {},
   "source": [
    "##### Obtaining the equation of the first derivative of two consecutive splines, being continuous at their interior point"
   ]
  },
  {
   "cell_type": "markdown",
   "id": "ce211a01-c4e6-4cf8-b86f-62153dcf372c",
   "metadata": {},
   "source": [
    "$$\n",
    "\\begin{align}\n",
    "3a_1(3.01)^2 + 2b_1(3.01) + c_1 - 3a_2(3.01)^2 - 2b_2(3.01) - c_1 = 0 ...........................(7)\\\\\n",
    "3a_2(11.80)^2 + 2b_2(11.80) + c_2 - 3a_3(11.80)^2 - 2b_3(11.80) - c_3 = 0 .......................(8)\n",
    "\\end{align}\n",
    "$$"
   ]
  },
  {
   "cell_type": "markdown",
   "id": "b3529bd0-08e5-4cfc-bfcc-b33d8a8cac00",
   "metadata": {},
   "source": [
    "##### Obtaining the equation of the second derivative of two consecutive splines continuous at their interior point"
   ]
  },
  {
   "cell_type": "markdown",
   "id": "2e385871-fafb-4baf-83f3-416870ea4034",
   "metadata": {},
   "source": [
    "$$\n",
    "\\begin{align}\n",
    "6a_1(3.01) + 2b_1 - 6a_2(3.01) - 2b_2 = 0 ....................................(9)\\\\\n",
    "6a_2(11.80) + 2b_2 - 6a_3(11.80) - 2b_3 = 0...................................(10)\n",
    "\\end{align}\n",
    "$$"
   ]
  },
  {
   "cell_type": "markdown",
   "id": "63b6994f-a8ea-4ca8-b27f-bce0881a7d1c",
   "metadata": {},
   "source": [
    "##### Obtaining the equations of the boundary conditions"
   ]
  },
  {
   "cell_type": "markdown",
   "id": "1970ccb1-2f10-43b4-af3b-f2c418da6e4a",
   "metadata": {},
   "source": [
    "$$\n",
    "\\begin{align}\n",
    "6a_1(0.55) + 2b_1 = 0 ...............................................(11)\\\\\n",
    "6a_3(19.10) + 2b_3 = 0 ..............................................(12)\n",
    "\\end{align}\n",
    "$$"
   ]
  },
  {
   "cell_type": "markdown",
   "id": "0ac2031d-a38f-4f57-a1b1-7de9ebce92b4",
   "metadata": {},
   "source": [
    "##### Represnting the equations with matrix"
   ]
  },
  {
   "cell_type": "markdown",
   "id": "eacdf7c1-d06d-46f8-bac2-9e01fc542651",
   "metadata": {},
   "source": [
    "$$\n",
    "\\begin{aligned}\n",
    "A * c = y\\\\\n",
    "c = A^{-1} * y\\\\\n",
    "\\end{aligned}\n",
    "$$\n",
    "<br>\n",
    "<br>\n",
    "$$\n",
    "\\begin{bmatrix}\n",
    "a_1\\\\\n",
    "b_1\\\\\n",
    "c_1\\\\\n",
    "d_1\\\\\n",
    "a_2\\\\\n",
    "b_2\\\\\n",
    "d_2\\\\\n",
    "a_3\\\\\n",
    "b_3\\\\\n",
    "c_3\\\\\n",
    "d_3\n",
    "\\end{bmatrix}\n",
    "= \\begin{bmatrix}\n",
    "0.1664 & 0.3025 & 0.55 & 1 & 0 & 0 & 0 & 0 & 0 & 0 & 0 & 0 \\\\\n",
    "27.2709 & 9.0601 & 3.01 & 1 & 0 & 0 & 0 & 0 & 0 & 0 & 0 & 0\\\\\n",
    "0 & 0 & 0 & 0 & 27.2709 & 9.0601 & 3.01 & 1 & 0 & 0 & 0 & 0\\\\\n",
    "0 & 0 & 0 & 0 & 1643.032 & 139.24 & 11.80 & 1 & 0 & 0 & 0 & 0\\\\\n",
    "0 & 0 & 0 & 0 & 0 & 0 & 0 & 0 & 1643.032 & 139.24 & 11.80 & 1\\\\\n",
    "0 & 0 & 0 & 0 & 0 & 0 & 0 & 0 & 6967.871 & 364.81 & 19.10 & 1\\\\\n",
    "27.1803 & 6.02 & 1 & 0 & -27.1803 & -6.02 & -1 & 0 & 0 & 0 & 0 & 0\\\\\n",
    "0 & 0 & 0 & 0 & 417.72 & 23.6 & 1 & 0 & -417.72 & -23.6 & -1 & 0\\\\\n",
    "18.06 & 2 & 0 & 0 & -18.06 & -2 & 0 & 0 & 0 & 0 & 0 & 0\\\\\n",
    "0 & 0 & 0 & 0 & 70.8 & 2 & 0 & 0 & -70.8 & -2 & 0 & 0\\\\\n",
    "3.33 & 2 & 0 & 0 & 0 & 0 & 0 & 0 & 0 & 0 & 0 & 0\\\\\n",
    "0 & 0 & 0 & 0 & 0 & 0 & 0 & 0 & 114.6 & 2 & 0 & 0\n",
    "\\end{bmatrix}^{-1}\\bullet\\begin{bmatrix}\n",
    "0.1912\\\\\n",
    "0.1656\\\\\n",
    "0.1656\\\\\n",
    "0.1650\\\\\n",
    "0.1650\\\\\n",
    "0.1684\\\\\n",
    "0\\\\\n",
    "0\\\\\n",
    "0\\\\\n",
    "0\\\\\n",
    "0\\\\\n",
    "0\n",
    "\\end{bmatrix}\n",
    "$$"
   ]
  },
  {
   "cell_type": "code",
   "execution_count": 1,
   "id": "ce46eb45-b300-41d4-9330-52c455aaf100",
   "metadata": {},
   "outputs": [
    {
     "ename": "NameError",
     "evalue": "name 'np' is not defined",
     "output_type": "error",
     "traceback": [
      "\u001b[1;31m---------------------------------------------------------------------------\u001b[0m",
      "\u001b[1;31mNameError\u001b[0m                                 Traceback (most recent call last)",
      "Cell \u001b[1;32mIn[1], line 1\u001b[0m\n\u001b[1;32m----> 1\u001b[0m A \u001b[38;5;241m=\u001b[39m \u001b[43mnp\u001b[49m\u001b[38;5;241m.\u001b[39marray([[\u001b[38;5;241m0.1664\u001b[39m, \u001b[38;5;241m0.3025\u001b[39m, \u001b[38;5;241m0.55\u001b[39m, \u001b[38;5;241m1\u001b[39m, \u001b[38;5;241m0\u001b[39m, \u001b[38;5;241m0\u001b[39m, \u001b[38;5;241m0\u001b[39m, \u001b[38;5;241m0\u001b[39m, \u001b[38;5;241m0\u001b[39m, \u001b[38;5;241m0\u001b[39m, \u001b[38;5;241m0\u001b[39m, \u001b[38;5;241m0\u001b[39m],\n\u001b[0;32m      2\u001b[0m               [\u001b[38;5;241m27.2709\u001b[39m, \u001b[38;5;241m9.0601\u001b[39m, \u001b[38;5;241m3.01\u001b[39m, \u001b[38;5;241m1\u001b[39m, \u001b[38;5;241m0\u001b[39m, \u001b[38;5;241m0\u001b[39m, \u001b[38;5;241m0\u001b[39m, \u001b[38;5;241m0\u001b[39m, \u001b[38;5;241m0\u001b[39m, \u001b[38;5;241m0\u001b[39m, \u001b[38;5;241m0\u001b[39m, \u001b[38;5;241m0\u001b[39m],\n\u001b[0;32m      3\u001b[0m               [\u001b[38;5;241m0\u001b[39m, \u001b[38;5;241m0\u001b[39m, \u001b[38;5;241m0\u001b[39m, \u001b[38;5;241m0\u001b[39m, \u001b[38;5;241m27.2709\u001b[39m, \u001b[38;5;241m9.0601\u001b[39m, \u001b[38;5;241m3.01\u001b[39m, \u001b[38;5;241m1\u001b[39m, \u001b[38;5;241m0\u001b[39m, \u001b[38;5;241m0\u001b[39m, \u001b[38;5;241m0\u001b[39m, \u001b[38;5;241m0\u001b[39m],\n\u001b[0;32m      4\u001b[0m               [\u001b[38;5;241m0\u001b[39m, \u001b[38;5;241m0\u001b[39m, \u001b[38;5;241m0\u001b[39m, \u001b[38;5;241m0\u001b[39m, \u001b[38;5;241m1643.032\u001b[39m, \u001b[38;5;241m139.24\u001b[39m, \u001b[38;5;241m11.80\u001b[39m, \u001b[38;5;241m1\u001b[39m, \u001b[38;5;241m0\u001b[39m, \u001b[38;5;241m0\u001b[39m, \u001b[38;5;241m0\u001b[39m, \u001b[38;5;241m0\u001b[39m],\n\u001b[0;32m      5\u001b[0m               [\u001b[38;5;241m0\u001b[39m, \u001b[38;5;241m0\u001b[39m, \u001b[38;5;241m0\u001b[39m, \u001b[38;5;241m0\u001b[39m, \u001b[38;5;241m0\u001b[39m, \u001b[38;5;241m0\u001b[39m, \u001b[38;5;241m0\u001b[39m, \u001b[38;5;241m0\u001b[39m, \u001b[38;5;241m1643.032\u001b[39m, \u001b[38;5;241m139.24\u001b[39m, \u001b[38;5;241m11.80\u001b[39m, \u001b[38;5;241m1\u001b[39m],\n\u001b[0;32m      6\u001b[0m               [\u001b[38;5;241m0\u001b[39m, \u001b[38;5;241m0\u001b[39m, \u001b[38;5;241m0\u001b[39m, \u001b[38;5;241m0\u001b[39m, \u001b[38;5;241m0\u001b[39m, \u001b[38;5;241m0\u001b[39m, \u001b[38;5;241m0\u001b[39m, \u001b[38;5;241m0\u001b[39m, \u001b[38;5;241m6967.871\u001b[39m, \u001b[38;5;241m364.81\u001b[39m, \u001b[38;5;241m19.10\u001b[39m, \u001b[38;5;241m1\u001b[39m],\n\u001b[0;32m      7\u001b[0m               [\u001b[38;5;241m27.1803\u001b[39m, \u001b[38;5;241m6.02\u001b[39m, \u001b[38;5;241m1\u001b[39m, \u001b[38;5;241m0\u001b[39m, \u001b[38;5;241m-\u001b[39m\u001b[38;5;241m27.1803\u001b[39m, \u001b[38;5;241m-\u001b[39m\u001b[38;5;241m6.02\u001b[39m, \u001b[38;5;241m-\u001b[39m\u001b[38;5;241m1\u001b[39m, \u001b[38;5;241m0\u001b[39m, \u001b[38;5;241m0\u001b[39m, \u001b[38;5;241m0\u001b[39m, \u001b[38;5;241m0\u001b[39m, \u001b[38;5;241m0\u001b[39m],\n\u001b[0;32m      8\u001b[0m               [\u001b[38;5;241m0\u001b[39m, \u001b[38;5;241m0\u001b[39m, \u001b[38;5;241m0\u001b[39m, \u001b[38;5;241m0\u001b[39m, \u001b[38;5;241m417.72\u001b[39m, \u001b[38;5;241m23.6\u001b[39m, \u001b[38;5;241m1\u001b[39m, \u001b[38;5;241m0\u001b[39m, \u001b[38;5;241m-\u001b[39m\u001b[38;5;241m417.72\u001b[39m, \u001b[38;5;241m-\u001b[39m\u001b[38;5;241m23.6\u001b[39m, \u001b[38;5;241m-\u001b[39m\u001b[38;5;241m1\u001b[39m, \u001b[38;5;241m0\u001b[39m],\n\u001b[0;32m      9\u001b[0m               [\u001b[38;5;241m18.06\u001b[39m, \u001b[38;5;241m2\u001b[39m, \u001b[38;5;241m0\u001b[39m, \u001b[38;5;241m0\u001b[39m, \u001b[38;5;241m-\u001b[39m\u001b[38;5;241m18.06\u001b[39m, \u001b[38;5;241m-\u001b[39m\u001b[38;5;241m2\u001b[39m, \u001b[38;5;241m0\u001b[39m, \u001b[38;5;241m0\u001b[39m, \u001b[38;5;241m0\u001b[39m, \u001b[38;5;241m0\u001b[39m, \u001b[38;5;241m0\u001b[39m, \u001b[38;5;241m0\u001b[39m],\n\u001b[0;32m     10\u001b[0m               [\u001b[38;5;241m0\u001b[39m, \u001b[38;5;241m0\u001b[39m, \u001b[38;5;241m0\u001b[39m, \u001b[38;5;241m0\u001b[39m, \u001b[38;5;241m70.8\u001b[39m, \u001b[38;5;241m2\u001b[39m, \u001b[38;5;241m0\u001b[39m, \u001b[38;5;241m0\u001b[39m, \u001b[38;5;241m-\u001b[39m\u001b[38;5;241m70.8\u001b[39m, \u001b[38;5;241m-\u001b[39m\u001b[38;5;241m2\u001b[39m, \u001b[38;5;241m0\u001b[39m, \u001b[38;5;241m0\u001b[39m],\n\u001b[0;32m     11\u001b[0m               [\u001b[38;5;241m3.33\u001b[39m, \u001b[38;5;241m2\u001b[39m, \u001b[38;5;241m0\u001b[39m, \u001b[38;5;241m0\u001b[39m, \u001b[38;5;241m0\u001b[39m, \u001b[38;5;241m0\u001b[39m, \u001b[38;5;241m0\u001b[39m, \u001b[38;5;241m0\u001b[39m, \u001b[38;5;241m0\u001b[39m, \u001b[38;5;241m0\u001b[39m, \u001b[38;5;241m0\u001b[39m, \u001b[38;5;241m0\u001b[39m],\n\u001b[0;32m     12\u001b[0m               [\u001b[38;5;241m0\u001b[39m, \u001b[38;5;241m0\u001b[39m, \u001b[38;5;241m0\u001b[39m, \u001b[38;5;241m0\u001b[39m, \u001b[38;5;241m0\u001b[39m, \u001b[38;5;241m0\u001b[39m, \u001b[38;5;241m0\u001b[39m, \u001b[38;5;241m0\u001b[39m, \u001b[38;5;241m114.6\u001b[39m, \u001b[38;5;241m2\u001b[39m, \u001b[38;5;241m0\u001b[39m, \u001b[38;5;241m0\u001b[39m]])\n\u001b[0;32m     13\u001b[0m y \u001b[38;5;241m=\u001b[39m np\u001b[38;5;241m.\u001b[39marray([\u001b[38;5;241m0.1912\u001b[39m, \u001b[38;5;241m0.1656\u001b[39m, \u001b[38;5;241m0.1656\u001b[39m, \u001b[38;5;241m0.1650\u001b[39m, \u001b[38;5;241m0.1650\u001b[39m, \u001b[38;5;241m0.1684\u001b[39m, \u001b[38;5;241m0\u001b[39m, \u001b[38;5;241m0\u001b[39m, \u001b[38;5;241m0\u001b[39m, \u001b[38;5;241m0\u001b[39m, \u001b[38;5;241m0\u001b[39m, \u001b[38;5;241m0\u001b[39m])\n\u001b[0;32m     14\u001b[0m c \u001b[38;5;241m=\u001b[39m (np\u001b[38;5;241m.\u001b[39mdot(np\u001b[38;5;241m.\u001b[39mlinalg\u001b[38;5;241m.\u001b[39minv(A), y))\u001b[38;5;241m.\u001b[39mreshape(\u001b[38;5;241m3\u001b[39m, \u001b[38;5;241m-\u001b[39m\u001b[38;5;241m1\u001b[39m)\n",
      "\u001b[1;31mNameError\u001b[0m: name 'np' is not defined"
     ]
    }
   ],
   "source": [
    "A = np.array([[0.1664, 0.3025, 0.55, 1, 0, 0, 0, 0, 0, 0, 0, 0],\n",
    "              [27.2709, 9.0601, 3.01, 1, 0, 0, 0, 0, 0, 0, 0, 0],\n",
    "              [0, 0, 0, 0, 27.2709, 9.0601, 3.01, 1, 0, 0, 0, 0],\n",
    "              [0, 0, 0, 0, 1643.032, 139.24, 11.80, 1, 0, 0, 0, 0],\n",
    "              [0, 0, 0, 0, 0, 0, 0, 0, 1643.032, 139.24, 11.80, 1],\n",
    "              [0, 0, 0, 0, 0, 0, 0, 0, 6967.871, 364.81, 19.10, 1],\n",
    "              [27.1803, 6.02, 1, 0, -27.1803, -6.02, -1, 0, 0, 0, 0, 0],\n",
    "              [0, 0, 0, 0, 417.72, 23.6, 1, 0, -417.72, -23.6, -1, 0],\n",
    "              [18.06, 2, 0, 0, -18.06, -2, 0, 0, 0, 0, 0, 0],\n",
    "              [0, 0, 0, 0, 70.8, 2, 0, 0, -70.8, -2, 0, 0],\n",
    "              [3.33, 2, 0, 0, 0, 0, 0, 0, 0, 0, 0, 0],\n",
    "              [0, 0, 0, 0, 0, 0, 0, 0, 114.6, 2, 0, 0]])\n",
    "y = np.array([0.1912, 0.1656, 0.1656, 0.1650, 0.1650, 0.1684, 0, 0, 0, 0, 0, 0])\n",
    "c = (np.dot(np.linalg.inv(A), y)).reshape(3, -1)\n",
    "print(c)"
   ]
  },
  {
   "cell_type": "markdown",
   "id": "45db0ff5-208f-42a8-9ddb-c8cca1d6a05a",
   "metadata": {},
   "source": [
    "##### Writting the function that calculates:\n",
    "$$x^0 + x^1 + x^2 + x^3$$"
   ]
  },
  {
   "cell_type": "code",
   "execution_count": 18,
   "id": "153b83c7-1f2b-4220-a734-5277e5696487",
   "metadata": {},
   "outputs": [],
   "source": [
    "def spline_interpol(coeffs, variables):\n",
    "    expansion = np.hstack([coeffs[i]*(variables**i)for i in range(0, len(coeffs))])\n",
    "    return np.sum(expansion, axis = 1)"
   ]
  },
  {
   "cell_type": "markdown",
   "id": "e2c1ce26-d00b-48d5-b8e9-f9f258642b2d",
   "metadata": {},
   "source": [
    "##### Simulating 100 values of x and applying the above function to get the respective values of y"
   ]
  },
  {
   "cell_type": "code",
   "execution_count": 19,
   "id": "d57899c1-266a-423e-9d30-c3b2fccc6ecd",
   "metadata": {},
   "outputs": [],
   "source": [
    "x_values = np.linspace(0.55,19.10,500)\n",
    "# for values of x that are less than 5\n",
    "y_1 = spline_interpol(c[0][::-1], x_values[x_values < 3.01].reshape(-1, 1))\n",
    "# for values of x that are greater than or equal to 5 to x < 10\n",
    "y_2 = spline_interpol(c[1][::-1], x_values[(x_values >= 3.01) & (x_values < 11.80)].reshape(-1, 1))\n",
    "# from 10 to 30\n",
    "y_3 = spline_interpol(c[2][::-1], x_values[x_values >= 11.80].reshape(-1, 1))\n",
    "y_values = np.concatenate([y_1, y_2, y_3])"
   ]
  },
  {
   "cell_type": "markdown",
   "id": "f99dc57b-98d1-49ab-9298-74471be63b07",
   "metadata": {},
   "source": [
    "##### Plotting the result"
   ]
  },
  {
   "cell_type": "code",
   "execution_count": 20,
   "id": "f435f09a-d7f9-4325-ba16-82a356e44f75",
   "metadata": {},
   "outputs": [
    {
     "data": {
      "image/png": "[encoded data removed]",
      "text/plain": [
       "<Figure size 640x480 with 1 Axes>"
      ]
     },
     "metadata": {},
     "output_type": "display_data"
    }
   ],
   "source": [
    "plt.plot(x_values, y_values)\n",
    "plt.scatter(t_s, y_s, c = \"red\")\n",
    "plt.xlabel(\"Maturity\")\n",
    "plt.ylabel(\"Yields\")\n",
    "plt.title(\"Cubic spline fitting\")\n",
    "plt.show()"
   ]
  },
  {
   "cell_type": "markdown",
   "id": "fd3c208b-6986-479f-bf44-8f50b3e42857",
   "metadata": {},
   "source": [
    "#### E. Comparison of the models:"
   ]
  },
  {
   "cell_type": "markdown",
   "id": "7d65be56-28a2-4eff-9a0f-ccfad2e555c1",
   "metadata": {},
   "source": [
    "##### In terms of fit:\n",
    "\n",
    "1. NS model is very smooth and is more ideal for capturing general trends. (Nelson & Siegel 473 - 489)\n",
    "2. Cubic spline model offers high flexibility which gives it the advantage of fixing irregularies in data points and the disadvantage of overfitting ( McCulloch 811 - 830)"
   ]
  },
  {
   "cell_type": "markdown",
   "id": "da6c1001-4f4c-4a57-8c1b-fdff9bf1c70b",
   "metadata": {},
   "source": [
    "##### In terms of interpretation:\n",
    "1. The parameters of NS fitting has economic meaning capturing long term, short term and medium term yield curve component (Nelson and Siegel 473 - 489)\n",
    "2. The parameters of cubic spline model are purely mathematical and don't have direct economic interpretation(Adams and Van 1 - 15)"
   ]
  },
  {
   "cell_type": "markdown",
   "id": "28e23146-dadc-4cc4-9986-129df80d4c45",
   "metadata": {},
   "source": [
    "#### F. Parameters:\n",
    "\n",
    "The parameters are outlined under the codes for each model"
   ]
  },
  {
   "cell_type": "markdown",
   "id": "096f9a97-47e5-4636-bd97-bff3a635f0af",
   "metadata": {},
   "source": [
    "##### NS model Parameters:"
   ]
  },
  {
   "cell_type": "code",
   "execution_count": 21,
   "id": "e398dd61-0ae6-4ba8-93db-cb29e7f825bf",
   "metadata": {},
   "outputs": [
    {
     "name": "stdout",
     "output_type": "stream",
     "text": [
      "Beta0: 0.15955966972332303\n",
      "Beta1: -0.15098613747320497\n",
      "Beta2: 0.2995051539138278\n",
      "Tau: 0.21970466519503065\n"
     ]
    }
   ],
   "source": [
    "beta0 = curve.beta0\n",
    "beta1 = curve.beta1\n",
    "beta2 = curve.beta2\n",
    "tau = curve.tau\n",
    "\n",
    "print(f\"Beta0: {beta0}\")\n",
    "print(f\"Beta1: {beta1}\")\n",
    "print(f\"Beta2: {beta2}\")\n",
    "print(f\"Tau: {tau}\")"
   ]
  },
  {
   "cell_type": "markdown",
   "id": "f28d018f-978f-49f5-b1c6-8d50c9f84b35",
   "metadata": {},
   "source": [
    "##### Cubic Spline Parameters"
   ]
  },
  {
   "cell_type": "code",
   "execution_count": 22,
   "id": "1fff2146-b1da-473a-acea-bfc84a022f20",
   "metadata": {},
   "outputs": [
    {
     "name": "stdout",
     "output_type": "stream",
     "text": [
      "[[ 2.06613038e-04 -3.44010709e-04 -1.14583069e-02  1.97571752e-01]\n",
      " [-7.15804569e-05  2.16807655e-03 -1.90196895e-02  2.05158339e-01]\n",
      " [ 1.67064667e-05 -9.57280543e-04  1.78595242e-02  6.01000980e-02]]\n"
     ]
    }
   ],
   "source": [
    "print(c)"
   ]
  },
  {
   "cell_type": "markdown",
   "id": "d9bf7d02-da8e-4f9a-85d0-039a417ae450",
   "metadata": {},
   "source": [
    "The parameters of cubic spline are arranged in the pattern below:\n",
    "\n",
    "the output of the matrix above is of the form:\n",
    "$$c = \\begin{bmatrix}\n",
    "    a_1 & b_1 & c_1 & d_1 \\\\\n",
    "    a_2 & b_2 & c_2 & d_2 \\\\\n",
    "    a_3 & b_3 & c_3 & d_3 \n",
    "\\end{bmatrix}$$"
   ]
  },
  {
   "cell_type": "markdown",
   "id": "f0c364b3-0fb5-4d33-a64f-73cdac251391",
   "metadata": {},
   "source": [
    "#### References:\n",
    "1. Debt Management Office, \"FGN bonds update\", 13 february, 2017, https://www.dmo.gov.ng/fgn-bonds/fgn-bond-updates/1935-fgn-bonds-weekly-trading-highlights-report-as-at-february-06-to-february-10-2017/file.\n",
    "2. Nelson, Charles R., and Andrew F. Siegel. \"Parsimonious Modeling of Yield Curves.\" *The Journal of Business*, vol. 60, no. 4, 1987, pp. 473-489.\n",
    "3. McCulloch, John H. \"The Tax-Adjusted Yield Curve.\" The Journal of Finance, vol. 30, no. 3, 1975, pp. 811-830.\n",
    "4. Adams, J., and R. van Deventer. \"Maximum Smoothness Forward Rates and Related Yields.\" Basic Building Blocks of Yield Curve Smoothing, SAS Risk Data and Analytics, 2012, pp. 1-15"
   ]
  },
  {
   "cell_type": "code",
   "execution_count": 29,
   "id": "450982c5-f455-4ff1-a5ba-f8a92d1b816f",
   "metadata": {
    "tags": []
   },
   "outputs": [
    {
     "name": "stdout",
     "output_type": "stream",
     "text": [
      "The 5 Generated Gaussian random variables are: [ 0.97565612  0.92651486 -1.36385173 -0.51372004  0.78090891]\n"
     ]
    }
   ],
   "source": [
    "###Q3. Exploiting Correlation\n",
    "#Importing required libraries\n",
    "import numpy as np\n",
    "\n",
    "\n",
    "##Q3-a. Generate 5 uncorrelated Gaussian random variables that simulate yield changes\n",
    "\n",
    "# Setting the mean and standard deviation\n",
    "mean = 0\n",
    "std_dev = 1\n",
    "\n",
    "# Generating 5 uncorrelated Gaussian random variables\n",
    "random_variables = np.random.normal(mean, std_dev, 5)\n",
    "\n",
    "print(\"The 5 Generated Gaussian random variables are:\",random_variables)"
   ]
  },
  {
   "cell_type": "code",
   "execution_count": 30,
   "id": "dcbe4cae-419d-417d-9b7e-5115b2bd8d14",
   "metadata": {
    "tags": []
   },
   "outputs": [
    {
     "name": "stdout",
     "output_type": "stream",
     "text": [
      "Covariance Matrix:\n",
      " [[ 0.90687641  0.04941727 -0.02465286 -0.08303729 -0.08815619]\n",
      " [ 0.04941727  1.16973813  0.31192471 -0.01874414  0.01242591]\n",
      " [-0.02465286  0.31192471  1.24043299  0.00920335 -0.28766277]\n",
      " [-0.08303729 -0.01874414  0.00920335  1.01600154  0.1471352 ]\n",
      " [-0.08815619  0.01242591 -0.28766277  0.1471352   1.20492249]]\n",
      "\n",
      "Eigenvalues:\n",
      " [1.64675205 1.2555874  1.04172668 0.86672013 0.7271853 ]\n",
      "\n",
      "Eigenvectors (Principal Components):\n",
      " [[ 0.08293956  0.19598244  0.46895444  0.775409   -0.36542376]\n",
      " [ 0.46363772 -0.57477992  0.4721844   0.03631621  0.47999076]\n",
      " [ 0.70815824 -0.18917087 -0.31552822 -0.11581475 -0.59140103]\n",
      " [-0.1330719  -0.42553581 -0.634837    0.59910717  0.19815076]\n",
      " [-0.50888592 -0.64370224  0.23355418 -0.15836525 -0.49704672]]\n",
      "\n",
      "Transformed Data (Principal Components:\n",
      ") [[-0.10061956  0.57892485 -0.10183904 -0.52510065 -0.37515534]\n",
      " [-0.59267847  0.60908959 -0.19968263  0.190379    0.50738367]\n",
      " [-0.84631649  0.70444827  0.16656197 -1.32470203 -0.38093291]\n",
      " [-0.16167474  1.38999427  2.37020997 -1.33930301  0.87301015]\n",
      " [ 0.93702831  1.19521267  1.09121507 -1.43699869 -0.36188123]\n",
      " [-0.40901293 -0.19145831 -1.39253662 -1.51628679  0.07333398]\n",
      " [-0.5761503   0.07549718  0.42658843  0.00784163  0.62108018]\n",
      " [ 1.09044214 -1.30626629 -0.71980043  0.29897071 -0.13671959]\n",
      " [ 0.91774927 -0.55398716 -1.68246341  0.2117944  -0.63477748]\n",
      " [ 1.17438368 -0.4115655   1.32461985  0.55225262  0.66231711]\n",
      " [ 1.15334541  0.09453206 -2.03661957 -1.66276957  0.09931125]\n",
      " [-0.64378605  1.85059663 -0.30948752  0.508406    0.98568311]\n",
      " [-0.01361978 -0.38561552  0.16637422  1.94497686 -0.67185661]\n",
      " [ 0.66715205 -0.15000924 -0.29072699 -1.99225171  0.71851875]\n",
      " [ 1.80764101 -2.77879988 -0.04423807 -0.96692727  0.18348763]\n",
      " [ 1.20804494 -0.25682645 -2.68259196  0.0284819  -0.25119993]\n",
      " [-0.68854595 -0.24305076  0.87191061  1.08141492 -0.22750922]\n",
      " [-2.4177899  -0.39369586 -0.12257972 -0.8735352  -1.27111571]\n",
      " [-2.24493141 -2.18287711  0.1297973  -0.75599943 -0.01873064]\n",
      " [ 1.6115846  -0.6031675   0.90619474  0.71169825 -0.64824907]\n",
      " [-1.14687002  0.49216414 -1.20265207 -0.3593709   0.04206124]\n",
      " [ 0.15948998  0.67161231 -1.7054954   2.12297938 -0.19298989]\n",
      " [-0.9157318   0.62701535 -0.22856101  0.74445574 -0.56632943]\n",
      " [ 1.02925433 -0.57807951  0.4383503   0.00502968 -0.93096807]\n",
      " [ 1.96088929 -0.89986614  0.15279434  2.09419002 -0.48692986]\n",
      " [ 1.02256097  0.41107939 -0.64176806  1.68974065  1.90881519]\n",
      " [ 0.35554621 -0.8685939   0.33398858  0.22019036  1.25323277]\n",
      " [-0.00972841 -0.19043922  1.47815231 -0.24637887 -1.56034678]\n",
      " [-0.5545086  -0.17737069 -1.4687885   0.33269478  0.45059002]\n",
      " [-0.03495672 -0.58705733 -0.09949618  1.46939778  0.28776257]\n",
      " [ 1.23550232  1.34352307 -0.16680767  0.20319862 -0.88887346]\n",
      " [ 3.38666574  1.44371884  1.08205081 -1.05009782 -0.32774345]\n",
      " [ 0.58421329  0.85055666 -0.97967101 -0.64555585 -0.02820711]\n",
      " [-0.31178865  1.03323516 -0.98100171  0.9535616  -0.77837011]\n",
      " [ 1.20800311  1.43338364 -0.47637969 -0.08264913  0.48530424]\n",
      " [-3.14956814  0.18496599 -0.5498144  -0.51990113  0.08828899]\n",
      " [ 1.77340667 -1.58362837 -1.68292281 -1.14027791 -1.11518069]\n",
      " [-0.02747567  1.0882629  -0.8615824   0.86041543 -0.48999031]\n",
      " [ 0.31294674  0.05987226 -1.2439977   0.45386689  0.32718811]\n",
      " [ 2.03312933 -0.65803739  0.24163686 -0.3248503   0.32280756]\n",
      " [ 0.84946309  0.51040873 -0.13007958  0.79561853  1.49184116]\n",
      " [-0.05097439  1.46048365 -0.7091367   1.47191932  0.17938157]\n",
      " [ 1.08555821  1.41928325  0.65584292 -0.10779527 -0.81051908]\n",
      " [-1.05752907  1.79916585 -1.02892349  1.89582254 -1.1094227 ]\n",
      " [ 0.81658335 -0.49416185 -0.62639796  0.85502492 -0.83318902]\n",
      " [-1.17610347  1.26529222 -1.35610126  0.11658457 -0.83507015]\n",
      " [-0.65234031  0.69607316 -1.16887597 -0.70772889 -0.09053453]\n",
      " [ 1.7400918  -0.36363376  0.35584563 -0.37017829 -0.13480276]\n",
      " [-0.10104024  2.24370221 -1.1929373  -0.35174429  0.50406628]\n",
      " [ 0.09004995 -0.34141478 -1.14284042 -0.02277656  0.65503614]\n",
      " [-0.1200313   1.64497899  1.42232593 -0.66031936 -0.94148753]\n",
      " [-0.91580277 -0.55827869 -0.47735201  0.62605142 -0.1877633 ]\n",
      " [ 0.46617689  1.94090435 -0.44966667  1.17762407 -0.75525447]\n",
      " [-0.42445953  0.49529135  1.65542115 -0.34026042 -0.90224415]\n",
      " [-2.10124519 -0.45039384 -0.38136064 -0.17386789 -1.29777994]\n",
      " [-0.19615647 -0.59206531  0.51793418 -0.87427697 -1.10201223]\n",
      " [-0.72939105  1.37296003 -0.44618549 -0.25732614  0.56178704]\n",
      " [-1.02000083 -0.10019286  0.5320263   0.95730993  0.91889795]\n",
      " [-2.38899543 -2.24992374 -0.32685835  0.48097369 -0.20789369]\n",
      " [-1.25784379  0.52472382  1.11768525 -0.25899768 -0.16638817]\n",
      " [-0.99233694 -1.41874123  1.29825039  0.67093767  1.13493385]\n",
      " [-1.06724522  0.59360798  0.04503214  0.47205248 -0.43428921]\n",
      " [ 0.36309795  1.02243768  0.81224264 -1.20517739  0.335301  ]\n",
      " [ 2.71374895  2.36001576 -0.75438652 -0.65924205  0.60175402]\n",
      " [-0.52616685  0.01076405  2.12083067 -1.96837968 -1.37135175]\n",
      " [-1.91634266  0.74222282 -2.37597011 -0.34315419 -0.45215558]\n",
      " [-1.11642418 -0.5244824   1.75962642 -0.76539309 -0.35595902]\n",
      " [ 0.64494374  0.87218227  0.5175139   0.26933032  2.31493205]\n",
      " [ 2.42853026 -1.1651136  -0.41337638 -0.47830687  0.14467279]\n",
      " [-1.17205325 -0.3779641  -2.12889294 -0.64366558 -0.94618839]\n",
      " [-1.66352925  0.79502111 -0.53697971 -0.06928097 -1.12148125]\n",
      " [ 1.30227378 -1.62933983 -1.27726724 -0.76538249  1.35227348]\n",
      " [ 1.38211098 -0.11887461  0.89528253  1.73299413 -0.731067  ]\n",
      " [-0.99368846  0.05096012 -0.54219394  0.13838139 -0.56326853]\n",
      " [ 0.07035741  1.1816359   1.87319216 -0.15940313  2.04388286]\n",
      " [-2.52712144 -2.65961312 -0.3552522   0.49467739  0.86154472]\n",
      " [ 2.04218004  0.22871002  0.50440564  0.4783441  -0.7443367 ]\n",
      " [-1.51955616  2.2896753  -1.39175582 -0.32714815  1.34784824]\n",
      " [ 1.34164365  0.32634423 -0.98796246 -0.77109065  0.10019179]\n",
      " [-0.6065528   0.53633921 -0.15647044  0.76711515 -0.09997538]\n",
      " [ 2.21150724 -1.04042041  0.16874856  1.22029207 -0.96176581]\n",
      " [-1.31214756 -0.81864041  0.14396846  0.75640672  1.16531521]\n",
      " [ 2.23550928 -0.61612487  0.40335448  0.1187019  -1.50118125]\n",
      " [-1.62565959  0.50072711  1.2719909   0.69268076  1.27706578]\n",
      " [ 0.25406939 -0.39603909 -1.12784167 -1.69932039  0.03138932]\n",
      " [-0.30101518 -2.66318337  0.83374477 -0.00466401 -0.60730068]\n",
      " [-0.63099585  0.6276159   0.0614289  -1.91380153 -0.08582505]\n",
      " [-0.62944368  0.57713688  1.30586819  0.11011895  0.26844211]\n",
      " [ 0.74572957  1.87504806  1.1701118   1.49380714 -0.7037116 ]\n",
      " [ 1.14027623  0.99358404 -0.78272681 -0.43512948  0.57868613]\n",
      " [-1.69899957  0.61295581  1.04922675  0.94441167  0.21092553]\n",
      " [ 0.24872554 -0.24684256 -0.18204415 -1.02529119  0.91631822]\n",
      " [-0.99909708 -0.29018395  0.17633669 -1.17870304  0.80491898]\n",
      " [ 0.44637975  0.4014638  -1.13704962 -0.26984089  1.78202253]\n",
      " [ 0.25782743  1.49089933 -0.19886997 -0.65298689  0.3355444 ]\n",
      " [-1.57383059 -1.01982553 -0.0956502   0.06204291  0.04548109]\n",
      " [ 1.76782848 -1.31294345 -1.4390565   0.03644819 -0.15260719]\n",
      " [ 0.68425826 -2.07307067 -0.22485815  0.08561315  1.53034249]\n",
      " [-0.44845987  1.31738136 -0.68921426 -0.42376338 -1.82370615]\n",
      " [ 0.17511747 -0.71576641  0.18830728  1.17222332  0.0892219 ]]\n"
     ]
    }
   ],
   "source": [
    "##Q3-b.Run a Principal Components using covariance matrix\n",
    "\n",
    "#Generating a sample data matrix with multiple observations\n",
    "data = np.array ([np.random.normal(mean, std_dev,5) for _ in range (100)])\n",
    "\n",
    "#Computing the covariance matrix\n",
    "cov_matrix = np.cov(data, rowvar=False)\n",
    "\n",
    "#Performing Eigen decomposition of the covariance matrix\n",
    "eigen_values, eigen_vectors = np.linalg.eigh(cov_matrix)\n",
    "\n",
    "#Sortng the eigenvalues and eigenvectors in descending order\n",
    "sorted_indices = np.argsort(eigen_values)[::-1]\n",
    "eigen_values = eigen_values [sorted_indices]\n",
    "eigen_vectors = eigen_vectors[:, sorted_indices]\n",
    "\n",
    "#Transforming the original data using the eigenvectors (PCA)\n",
    "principal_components = np.dot(data, eigen_vectors)\n",
    "\n",
    "#Printing results\n",
    "print (\"Covariance Matrix:\\n\", cov_matrix)\n",
    "print (\"\\nEigenvalues:\\n\", eigen_values)\n",
    "print (\"\\nEigenvectors (Principal Components):\\n\", eigen_vectors)\n",
    "print (\"\\nTransformed Data (Principal Components:\\n)\", principal_components)"
   ]
  },
  {
   "cell_type": "code",
   "execution_count": 31,
   "id": "3d1d447f-b57c-4b48-95a4-f10cce52df00",
   "metadata": {
    "tags": []
   },
   "outputs": [
    {
     "name": "stdout",
     "output_type": "stream",
     "text": [
      "variance explained by each component: [0.29735654 0.22672334 0.18810618 0.15650498 0.13130896]\n",
      "variance explained by component 1:\n",
      " 0.2973565382914144\n",
      "variance explained by component 2:\n",
      " 0.2267233378203831\n",
      "variance explained by component 3:\n",
      " 0.15650497955758685\n"
     ]
    }
   ],
   "source": [
    "##Q3-c.Write a paragraph explaining how the variances of each component compare\n",
    "        #with each other. In this paragraph, you will address the following question: how\n",
    "        #much variance is explained by Component 1, Component 2, Component 3?\n",
    "\n",
    "#calculating the total variance\n",
    "total_variance = np.sum(eigen_values)  \n",
    "\n",
    "#calculating the proportion of the variance explained by each component\n",
    "variance_explained = eigen_values / total_variance\n",
    "\n",
    "print (\"variance explained by each component:\", variance_explained)\n",
    "print (\"variance explained by component 1:\\n\", variance_explained[0])\n",
    "print (\"variance explained by component 2:\\n\", variance_explained[1])\n",
    "print (\"variance explained by component 3:\\n\", variance_explained[3])\n"
   ]
  },
  {
   "cell_type": "code",
   "execution_count": 8,
   "id": "96f14b68-e14e-4ef6-b23a-8a7fc34e1e65",
   "metadata": {
    "tags": []
   },
   "outputs": [],
   "source": [
    "'''\n",
    "\n",
    "Following the results obtained above, Component 1 has the highest \n",
    "contribution,explaining 29.74% of the overall variance, Component 2\n",
    "follows with a contribution of 22.67% to the variance, while\n",
    "Component 3 accounts for approximately 15.65% of the\n",
    "total variance. The remaining components contribute \n",
    "smaller portions, indicating thatthey capture less significant \n",
    "variations in the data. Overall, the first three components \n",
    "collectively explain almost 68% of the total variance."
   ]
  },
  {
   "cell_type": "code",
   "execution_count": null,
   "id": "3d561114-ce80-45d3-acd8-fe42baccbd96",
   "metadata": {
    "tags": []
   },
   "outputs": [],
   "source": [
    "import pandas as pd\n",
    "import numpy as np\n",
    "import pandas_datareader.data as web\n",
    "from datetime import datetime, timedelta\n",
    "import matplotlib.pyplot as plt\n",
    "from sklearn.preprocessing import StandardScaler\n",
    "from sklearn.decomposition import PCA\n",
    "\n",
    "\n",
    "def fetch_treasury_data(start_date, end_date):\n",
    "    \"\"\"\n",
    "    Fetches daily treasury yield data from FRED database\n",
    "    Parameters:\n",
    "    start_date (datetime): Start date for data collection\n",
    "    end_date (datetime): End date for data collection\n",
    "    Returns:\n",
    "    pandas.DataFrame: Daily yields for different maturities\n",
    "    \"\"\"\n",
    "    # Treasury securities tickers for different maturities\n",
    "    tickers = {\n",
    "        'DGS1MO': '1-Month',\n",
    "        'DGS3MO': '3-Month',\n",
    "        'DGS6MO': '6-Month',\n",
    "        'DGS1': '1-Year',\n",
    "        'DGS2': '2-Year'\n",
    "    }\n",
    "    \n",
    "    df = pd.DataFrame()\n",
    "    \n",
    "    # Fetch data for each security\n",
    "    for ticker, name in tickers.items():\n",
    "        try:\n",
    "            data = web.DataReader(ticker, 'fred', start_date, end_date)\n",
    "            df[name] = data\n",
    "        except Exception as e:\n",
    "            print(f\"Error fetching {ticker}: {e}\")\n",
    "    \n",
    "    return df.dropna()  # Remove any rows with missing values\n",
    "\n",
    "##Q3-f. Be sure to compute the daily yield changes!\n",
    "\n",
    "def calculate_daily_changes(yields_df):\n",
    "    \"\"\"\n",
    "    Calculates daily changes in yields\n",
    "    Parameters:\n",
    "    yields_df (pandas.DataFrame): DataFrame containing daily yields\n",
    "    Returns:\n",
    "    pandas.DataFrame: Daily yield changes\n",
    "    \"\"\"\n",
    "    return yields_df.diff().dropna()\n",
    "\n",
    "def perform_pca(yield_changes):\n",
    "    \"\"\"\n",
    "    Performs PCA on yield changes using the covariance matrix\n",
    "    Parameters:\n",
    "    yield_changes (pandas.DataFrame): DataFrame containing daily yield changes\n",
    "    Returns:\n",
    "    tuple: (PCA object, explained variance ratios, transformed data)\n",
    "    \"\"\"\n",
    "    # Create covariance matrix\n",
    "    cov_matrix = np.cov(yield_changes.T)\n",
    "    \n",
    "    # Perform PCA\n",
    "    pca = PCA()\n",
    "    pca_result = pca.fit_transform(yield_changes)\n",
    "    \n",
    "    return pca, pca.explained_variance_ratio_, pca_result\n",
    "\n",
    "def plot_scree(explained_variance_ratio):\n",
    "    \"\"\"\n",
    "    Creates a scree plot of explained variance ratios\n",
    "    Parameters:\n",
    "    explained_variance_ratio (array): Array of explained variance ratios\n",
    "    \"\"\"\n",
    "    plt.figure(figsize=(10, 6))\n",
    "    \n",
    "    # Bar plot of explained variance\n",
    "    plt.bar(range(1, len(explained_variance_ratio) + 1), \n",
    "            explained_variance_ratio * 100,\n",
    "            alpha=0.5,\n",
    "            color='blue')\n",
    "    \n",
    "    # Line plot of cumulative explained variance\n",
    "    plt.plot(range(1, len(explained_variance_ratio) + 1),\n",
    "             np.cumsum(explained_variance_ratio) * 100,\n",
    "             'ro-',\n",
    "             label='Cumulative Explained Variance')\n",
    "    \n",
    "    plt.xlabel('Principal Component')\n",
    "    plt.ylabel('Explained Variance (%)')\n",
    "    plt.title('Scree Plot of PCA Components')\n",
    "    plt.legend()\n",
    "    plt.grid(True)\n",
    "    plt.tight_layout()\n",
    "    plt.show()\n",
    "\n",
    "def print_component_loadings(pca, column_names):\n",
    "    \"\"\"\n",
    "    Prints the loadings (eigenvectors) for each principal component\n",
    "    Parameters:\n",
    "    pca (PCA): Fitted PCA object\n",
    "    column_names (list): Names of the original variables\n",
    "    \"\"\"\n",
    "    loadings = pd.DataFrame(\n",
    "        pca.components_.T,\n",
    "        columns=[f'PC{i+1}' for i in range(len(column_names))],\n",
    "        index=column_names\n",
    "    )\n",
    "    print(\"\\nPrincipal Component Loadings:\")\n",
    "    print(loadings)\n",
    "    return loadings\n",
    "\n",
    "# Main execution\n",
    "if __name__ == \"__main__\":\n",
    "    # Define date range (last 6 months)\n",
    "    end_date = datetime.now()\n",
    "    start_date = end_date - timedelta(days=180)\n",
    "    \n",
    "    # 1. Collect daily closing yields\n",
    "    print(\"Fetching treasury yield data...\")\n",
    "    yields_df = fetch_treasury_data(start_date, end_date)\n",
    "    print(f\"Collected {len(yields_df)} days of yield data\\n\")\n",
    "    \n",
    "    # 2. Compute daily changes\n",
    "    print(\"Calculating daily yield changes...\")\n",
    "    yield_changes = calculate_daily_changes(yields_df)\n",
    "    print(\"First few rows of yield changes:\")\n",
    "    print(yield_changes.head())\n",
    "    print(\"\\nDescriptive statistics of yield changes:\")\n",
    "    print(yield_changes.describe())\n",
    "    \n",
    "    # Print correlation matrix\n",
    "    print(\"\\nCorrelation matrix of yield changes:\")\n",
    "    print(yield_changes.corr().round(3))\n",
    "    \n",
    "    # 3. Run PCA\n",
    "    print(\"\\nPerforming PCA analysis...\")\n",
    "    pca, explained_variance_ratio, pca_result = perform_pca(yield_changes)\n",
    "    \n",
    "    # Print explained variance ratios\n",
    "    print(\"\\nExplained variance ratio by component:\")\n",
    "    for i, ratio in enumerate(explained_variance_ratio, 1):\n",
    "        print(f\"PC{i}: {ratio*100:.2f}%\")\n",
    "    \n",
    "    # Print component loadings\n",
    "    loadings = print_component_loadings(pca, yield_changes.columns)\n",
    "    \n",
    "    # 4. Create scree plot\n",
    "    print(\"\\nGenerating scree plot...\")\n",
    "    plot_scree(explained_variance_ratio)"
   ]
  },
  {
   "cell_type": "code",
   "execution_count": 33,
   "id": "698c624a-cbe8-4062-999a-c8734fe03a40",
   "metadata": {
    "tags": []
   },
   "outputs": [
    {
     "data": {
      "image/png": "[encoded data removed]",
      "text/plain": [
       "<Figure size 1000x600 with 1 Axes>"
      ]
     },
     "metadata": {},
     "output_type": "display_data"
    }
   ],
   "source": [
    "##Q3-d: Produce a screeplot (see https://en.wikipedia.org/wiki/Scree_plot) of the\n",
    "#variance explained for each component.\n",
    "\n",
    "#Importing required libraries\n",
    "import matplotlib.pyplot as plt\n",
    "#calculating cumulative variance explained\n",
    "cumulative_variance_explained = np.cumsum(variance_explained)\n",
    "\n",
    "#creating the scree plot\n",
    "plt.figure(figsize=(10,6))\n",
    "plt.plot(range(1, len(variance_explained) + 1), \n",
    "         variance_explained, marker = 'o', \n",
    "         label = 'Individual explained variance')\n",
    "plt.plot(range(1, len(cumulative_variance_explained) +1), \n",
    "         cumulative_variance_explained, marker = 'x', \n",
    "         label = 'cumulative explained variance')\n",
    "plt.bar(range(1, len(variance_explained) + 1), \n",
    "            variance_explained,\n",
    "            alpha=0.5,\n",
    "            color='blue')\n",
    "#labeling the scree plot\n",
    "plt.title('Scree Plot for Q3.d')\n",
    "plt.xlabel('Principal Components')\n",
    "plt.ylabel('Variance Explained')\n",
    "plt.xticks(range(1, len(variance_explained) + 1))\n",
    "plt.legend()\n",
    "plt.grid()\n",
    "plt.show()"
   ]
  },
  {
   "cell_type": "code",
   "execution_count": null,
   "id": "fa6b32af-74ab-42fa-9cb6-2572b98b2bd0",
   "metadata": {
    "tags": []
   },
   "outputs": [],
   "source": [
    "### Working with real data:\n",
    "!pip install pandas-datareader\n"
   ]
  },
  {
   "cell_type": "code",
   "execution_count": 27,
   "id": "07257306-f84c-4560-98f4-5ce87977085c",
   "metadata": {
    "tags": []
   },
   "outputs": [
    {
     "name": "stdout",
     "output_type": "stream",
     "text": [
      "Fetching treasury yield data...\n",
      "Collected 119 days of yield data\n",
      "\n",
      "Calculating daily yield changes...\n",
      "First few rows of yield changes:\n",
      "            1-Month  3-Month  6-Month  1-Year  2-Year\n",
      "DATE                                                 \n",
      "2024-07-29     0.01     0.03     0.00    0.00    0.00\n",
      "2024-07-30     0.00    -0.01    -0.02   -0.01   -0.01\n",
      "2024-07-31    -0.01     0.01    -0.02   -0.05   -0.06\n",
      "2024-08-01     0.06    -0.04    -0.06   -0.11   -0.13\n",
      "2024-08-02    -0.01    -0.08    -0.20   -0.29   -0.28\n",
      "\n",
      "Descriptive statistics of yield changes:\n",
      "          1-Month     3-Month     6-Month      1-Year      2-Year\n",
      "count  118.000000  118.000000  118.000000  118.000000  118.000000\n",
      "mean    -0.008983   -0.008814   -0.007797   -0.005169   -0.001102\n",
      "std      0.033802    0.026704    0.033388    0.051186    0.061793\n",
      "min     -0.140000   -0.110000   -0.200000   -0.290000   -0.280000\n",
      "25%     -0.027500   -0.020000   -0.020000   -0.030000   -0.030000\n",
      "50%     -0.010000   -0.010000   -0.005000   -0.010000    0.000000\n",
      "75%      0.010000    0.000000    0.010000    0.020000    0.030000\n",
      "max      0.110000    0.060000    0.090000    0.180000    0.230000\n",
      "\n",
      "Correlation matrix of yield changes:\n",
      "         1-Month  3-Month  6-Month  1-Year  2-Year\n",
      "1-Month    1.000    0.383    0.310   0.237   0.147\n",
      "3-Month    0.383    1.000    0.561   0.498   0.369\n",
      "6-Month    0.310    0.561    1.000   0.874   0.758\n",
      "1-Year     0.237    0.498    0.874   1.000   0.917\n",
      "2-Year     0.147    0.369    0.758   0.917   1.000\n",
      "\n",
      "Performing PCA analysis...\n",
      "\n",
      "Explained variance ratio by component:\n",
      "PC1: 76.57%\n",
      "PC2: 13.35%\n",
      "PC3: 5.65%\n",
      "PC4: 3.09%\n",
      "PC5: 1.34%\n",
      "\n",
      "Principal Component Loadings:\n",
      "              PC1       PC2       PC3       PC4       PC5\n",
      "1-Month -0.104699 -0.861406  0.496877  0.003191  0.011033\n",
      "3-Month -0.160027 -0.373755 -0.677304 -0.612838 -0.019687\n",
      "6-Month -0.344841 -0.170971 -0.359872  0.611023 -0.590759\n",
      "1-Year  -0.590889 -0.001820 -0.145919  0.292986  0.737370\n",
      "2-Year  -0.703821  0.298418  0.378910 -0.406484 -0.326773\n",
      "\n",
      "Generating scree plot...\n"
     ]
    },
    {
     "data": {
      "image/png": "[encoded data removed]",
      "text/plain": [
       "<Figure size 1000x600 with 1 Axes>"
      ]
     },
     "metadata": {},
     "output_type": "display_data"
    }
   ],
   "source": [
    "import pandas as pd\n",
    "import numpy as np\n",
    "import pandas_datareader.data as web\n",
    "from datetime import datetime, timedelta\n",
    "import matplotlib.pyplot as plt\n",
    "from sklearn.preprocessing import StandardScaler\n",
    "from sklearn.decomposition import PCA\n",
    "\n",
    "#Definition of functions used in the main program\n",
    "\n",
    "def fetch_treasury_data(start_date, end_date):\n",
    "    \"\"\"\n",
    "    Fetches daily treasury yield data from FRED database\n",
    "    Parameters:\n",
    "    start_date (datetime): Start date for data collection\n",
    "    end_date (datetime): End date for data collection\n",
    "    Returns:\n",
    "    pandas.DataFrame: Daily yields for different maturities\n",
    "    \"\"\"\n",
    "    # Treasury securities tickers for different maturities\n",
    "    tickers = {\n",
    "        'DGS1MO': '1-Month',\n",
    "        'DGS3MO': '3-Month',\n",
    "        'DGS6MO': '6-Month',\n",
    "        'DGS1': '1-Year',\n",
    "        'DGS2': '2-Year'\n",
    "    }\n",
    "    \n",
    "    df = pd.DataFrame()\n",
    "    \n",
    "    # Fetch data for each security\n",
    "    for ticker, name in tickers.items():\n",
    "        try:\n",
    "            data = web.DataReader(ticker, 'fred', start_date, end_date)\n",
    "            df[name] = data\n",
    "        except Exception as e:\n",
    "            print(f\"Error fetching {ticker}: {e}\")\n",
    "    \n",
    "    return df.dropna()  # Remove any rows with missing values\n",
    "\n",
    "def calculate_daily_changes(yields_df):\n",
    "    \"\"\"\n",
    "    Calculates daily changes in yields\n",
    "    Parameters:\n",
    "    yields_df (pandas.DataFrame): DataFrame containing daily yields\n",
    "    Returns:\n",
    "    pandas.DataFrame: Daily yield changes\n",
    "    \"\"\"\n",
    "    return yields_df.diff().dropna()\n",
    "\n",
    "def perform_pca(yield_changes):\n",
    "    \"\"\"\n",
    "    Performs PCA on yield changes using the covariance matrix\n",
    "    Parameters:\n",
    "    yield_changes (pandas.DataFrame): DataFrame containing daily yield changes\n",
    "    Returns:\n",
    "    tuple: (PCA object, explained variance ratios, transformed data)\n",
    "    \"\"\"\n",
    "    # Create covariance matrix\n",
    "    cov_matrix = np.cov(yield_changes.T)\n",
    "    \n",
    "    # Perform PCA\n",
    "    pca = PCA()\n",
    "    pca_result = pca.fit_transform(yield_changes)\n",
    "    \n",
    "    return pca, pca.explained_variance_ratio_, pca_result\n",
    "\n",
    "def plot_scree(explained_variance_ratio):\n",
    "    \"\"\"\n",
    "    Creates a scree plot of explained variance ratios\n",
    "    Parameters:\n",
    "    explained_variance_ratio (array): Array of explained variance ratios\n",
    "    \"\"\"\n",
    "    plt.figure(figsize=(10, 6))\n",
    "    \n",
    "    # Bar plot of explained variance\n",
    "    plt.bar(range(1, len(explained_variance_ratio) + 1), \n",
    "            explained_variance_ratio * 100,\n",
    "            alpha=0.5,\n",
    "            color='blue')\n",
    "    \n",
    "    # Line plot of cumulative explained variance\n",
    "    plt.plot(range(1, len(explained_variance_ratio) + 1),\n",
    "             np.cumsum(explained_variance_ratio) * 100,\n",
    "             'ro-',\n",
    "             label='Cumulative Explained Variance')\n",
    "    \n",
    "    plt.xlabel('Principal Component')\n",
    "    plt.ylabel('Explained Variance (%)')\n",
    "    plt.title('Scree Plot of PCA Components')\n",
    "    plt.legend()\n",
    "    plt.grid(True)\n",
    "    plt.tight_layout()\n",
    "    plt.show()\n",
    "\n",
    "def print_component_loadings(pca, column_names):\n",
    "    \"\"\"\n",
    "    Prints the loadings (eigenvectors) for each principal component\n",
    "    Parameters:\n",
    "    pca (PCA): Fitted PCA object\n",
    "    column_names (list): Names of the original variables\n",
    "    \"\"\"\n",
    "    loadings = pd.DataFrame(\n",
    "        pca.components_.T,\n",
    "        columns=[f'PC{i+1}' for i in range(len(column_names))],\n",
    "        index=column_names\n",
    "    )\n",
    "    print(\"\\nPrincipal Component Loadings:\")\n",
    "    print(loadings)\n",
    "    return loadings\n",
    "\n",
    "# Main execution\n",
    "if __name__ == \"__main__\":\n",
    "    # Defining date range (last 6 months)\n",
    "    end_date = datetime.now()\n",
    "    start_date = end_date - timedelta(days=180)\n",
    "    \n",
    "    # Q3-e Collecting daily closing yields\n",
    "    print(\"Fetching treasury yield data...\")\n",
    "    yields_df = fetch_treasury_data(start_date, end_date)\n",
    "    print(f\"Collected {len(yields_df)} days of yield data\\n\")\n",
    "    \n",
    "    # Q3-f. Computing daily changes\n",
    "    print(\"Calculating daily yield changes...\")\n",
    "    yield_changes = calculate_daily_changes(yields_df)\n",
    "    print(\"First few rows of yield changes:\")\n",
    "    print(yield_changes.head())\n",
    "    print(\"\\nDescriptive statistics of yield changes:\")\n",
    "    print(yield_changes.describe())\n",
    "    \n",
    "    # Checkpoint: Printing correlation matrix\n",
    "    print(\"\\nCorrelation matrix of yield changes:\")\n",
    "    print(yield_changes.corr().round(3))\n",
    "    \n",
    "    # 3-g Runing PCA using covariance matrix\n",
    "    print(\"\\nPerforming PCA analysis...\")\n",
    "    pca, explained_variance_ratio, pca_result = perform_pca(yield_changes)\n",
    "    \n",
    "    # Print explained variance ratios\n",
    "    print(\"\\nExplained variance ratio by component:\")\n",
    "    for i, ratio in enumerate(explained_variance_ratio, 1):\n",
    "        print(f\"PC{i}: {ratio*100:.2f}%\")\n",
    "    \n",
    "    # Checkpoint Printing component loadings\n",
    "    loadings = print_component_loadings(pca, yield_changes.columns)\n",
    "    \n",
    "    # 3-1. Creating a scree plot\n",
    "    print(\"\\nGenerating scree plot...\")\n",
    "    plot_scree(explained_variance_ratio)"
   ]
  },
  {
   "cell_type": "code",
   "execution_count": null,
   "id": "0b45b75b-6daa-41d9-a20f-29a5e0978a9f",
   "metadata": {},
   "outputs": [],
   "source": [
    "'''\n",
    "3.h How do the variances of each component compare? In other words, how much\n",
    "variance is explained by Component 1, Component 2, Component 3, etc.?\n",
    "Explained variance ratio by component:\n",
    "PC1: explains 76.57% of the total variance\n",
    "PC2: explains 13.35% of the total variance\n",
    "PC3: explains 5.65% of the total variance\n",
    "PC4: explains 3.09% of the total variance\n",
    "PC5: explains 1.34% of the total variance\n",
    "\n",
    "PC1 captures the majority of the variance ie 76.57%, followed by PC2 and PC3. \n",
    "PC1 and PC2 alone captures almost 90% of the total variance\n",
    "'''"
   ]
  },
  {
   "cell_type": "code",
   "execution_count": null,
   "id": "ce8602a4-c49a-4531-9a16-4f0b7778eb0e",
   "metadata": {},
   "outputs": [],
   "source": [
    "'''\n",
    "3-j. How does the screeplot from the uncorrelated data compare with the screeplot\n",
    "from the government data?\n",
    "\n",
    "Comparing the screeplot from the uncorrelated data with the screeplot \n",
    "from the government data reveals notable differences in how the variance\n",
    "is distributed across the principal components. In the uncorrelated data, \n",
    "the variance explained by the firstthree principal components \n",
    "(29.74%, 22.67%, and 15.65%, respectively) collectively accounts \n",
    "for around 68% of the total variance. This indicates a more\n",
    "gradual decline in the amount of variance captured by each subsequent component. \n",
    "\n",
    "Conversely, in the government data, the first three components \n",
    "(76.57%, 13.35%, and 5.65%, respectively) explain approximately 95.57% of the\n",
    "total variance, with a sharp drop-off after the first principal\n",
    "component. This steep decline in the government data suggests that\n",
    "the majority of the variance isconcentrated in the first component, \n",
    "while the remaining components capture relatively small portions\n",
    "of the data's variability.\n",
    "\n",
    "The practical and useful application of PCA in real-world data analysis\n",
    "is evident in the comparison of these two screeplots. With the government \n",
    "data, PCA effectively reduces the dimensionality of the dataset \n",
    "by identifying that the first component alone captures the majority\n",
    "of the variance. This allows for a more simplified and efficient representation \n",
    "of the data without losing significant information, which is particularly \n",
    "valuable in the field of finance where datasets are large and complex.\n",
    "\n",
    "'''"
   ]
  },
  {
   "cell_type": "code",
   "execution_count": 1,
   "id": "0af277ad-0a61-464a-a231-2358b96589cb",
   "metadata": {
    "tags": []
   },
   "outputs": [
    {
     "name": "stdout",
     "output_type": "stream",
     "text": [
      "Fetching data for PLD...\n"
     ]
    },
    {
     "name": "stderr",
     "output_type": "stream",
     "text": [
      "[*********************100%***********************]  1 of 1 completed\n",
      "[*********************100%***********************]  1 of 1 completed\n",
      "[*********************100%***********************]  1 of 1 completed\n"
     ]
    },
    {
     "name": "stdout",
     "output_type": "stream",
     "text": [
      "Data for PLD fetched successfully!\n",
      "Fetching data for EQIX...\n",
      "Data for EQIX fetched successfully!\n",
      "Fetching data for AMT...\n",
      "Data for AMT fetched successfully!\n",
      "Fetching data for WELL...\n"
     ]
    },
    {
     "name": "stderr",
     "output_type": "stream",
     "text": [
      "[*********************100%***********************]  1 of 1 completed\n",
      "[*********************100%***********************]  1 of 1 completed\n",
      "[*********************100%***********************]  1 of 1 completed\n"
     ]
    },
    {
     "name": "stdout",
     "output_type": "stream",
     "text": [
      "Data for WELL fetched successfully!\n",
      "Fetching data for DLR...\n",
      "Data for DLR fetched successfully!\n",
      "Fetching data for SPG...\n",
      "Data for SPG fetched successfully!\n",
      "Fetching data for O...\n"
     ]
    },
    {
     "name": "stderr",
     "output_type": "stream",
     "text": [
      "[*********************100%***********************]  1 of 1 completed\n",
      "[*********************100%***********************]  1 of 1 completed\n",
      "[*********************100%***********************]  1 of 1 completed\n"
     ]
    },
    {
     "name": "stdout",
     "output_type": "stream",
     "text": [
      "Data for O fetched successfully!\n",
      "Fetching data for PSA...\n",
      "Data for PSA fetched successfully!\n",
      "Fetching data for CCI...\n",
      "Data for CCI fetched successfully!\n",
      "Fetching data for CBRE...\n"
     ]
    },
    {
     "name": "stderr",
     "output_type": "stream",
     "text": [
      "[*********************100%***********************]  1 of 1 completed\n",
      "[*********************100%***********************]  1 of 1 completed\n",
      "[*********************100%***********************]  1 of 1 completed\n"
     ]
    },
    {
     "name": "stdout",
     "output_type": "stream",
     "text": [
      "Data for CBRE fetched successfully!\n",
      "Fetching data for EXR...\n",
      "Data for EXR fetched successfully!\n",
      "Fetching data for AVB...\n",
      "Data for AVB fetched successfully!\n",
      "Fetching data for VICI...\n"
     ]
    },
    {
     "name": "stderr",
     "output_type": "stream",
     "text": [
      "[*********************100%***********************]  1 of 1 completed\n",
      "[*********************100%***********************]  1 of 1 completed\n",
      "[*********************100%***********************]  1 of 1 completed\n"
     ]
    },
    {
     "name": "stdout",
     "output_type": "stream",
     "text": [
      "Data for VICI fetched successfully!\n",
      "Fetching data for IRM...\n",
      "Data for IRM fetched successfully!\n",
      "Fetching data for CSGP...\n",
      "Data for CSGP fetched successfully!\n",
      "Fetching data for VTR...\n"
     ]
    },
    {
     "name": "stderr",
     "output_type": "stream",
     "text": [
      "[*********************100%***********************]  1 of 1 completed\n",
      "[*********************100%***********************]  1 of 1 completed\n",
      "[*********************100%***********************]  1 of 1 completed\n"
     ]
    },
    {
     "name": "stdout",
     "output_type": "stream",
     "text": [
      "Data for VTR fetched successfully!\n",
      "Fetching data for EQR...\n",
      "Data for EQR fetched successfully!\n",
      "Fetching data for SBAC...\n",
      "Data for SBAC fetched successfully!\n",
      "Fetching data for WY...\n"
     ]
    },
    {
     "name": "stderr",
     "output_type": "stream",
     "text": [
      "[*********************100%***********************]  1 of 1 completed\n",
      "[*********************100%***********************]  1 of 1 completed\n",
      "[*********************100%***********************]  1 of 1 completed\n"
     ]
    },
    {
     "name": "stdout",
     "output_type": "stream",
     "text": [
      "Data for WY fetched successfully!\n",
      "Fetching data for ESS...\n",
      "Data for ESS fetched successfully!\n",
      "Fetching data for INVH...\n",
      "Data for INVH fetched successfully!\n",
      "Fetching data for MAA...\n"
     ]
    },
    {
     "name": "stderr",
     "output_type": "stream",
     "text": [
      "[*********************100%***********************]  1 of 1 completed\n",
      "[*********************100%***********************]  1 of 1 completed\n"
     ]
    },
    {
     "name": "stdout",
     "output_type": "stream",
     "text": [
      "Data for MAA fetched successfully!\n",
      "Fetching data for ARE...\n",
      "Data for ARE fetched successfully!\n",
      "Fetching data for KIM...\n"
     ]
    },
    {
     "name": "stderr",
     "output_type": "stream",
     "text": [
      "[*********************100%***********************]  1 of 1 completed\n",
      "[*********************100%***********************]  1 of 1 completed\n"
     ]
    },
    {
     "name": "stdout",
     "output_type": "stream",
     "text": [
      "Data for KIM fetched successfully!\n",
      "Fetching data for DOC...\n",
      "Data for DOC fetched successfully!\n",
      "Fetching data for UDR...\n"
     ]
    },
    {
     "name": "stderr",
     "output_type": "stream",
     "text": [
      "[*********************100%***********************]  1 of 1 completed\n"
     ]
    },
    {
     "name": "stdout",
     "output_type": "stream",
     "text": [
      "Data for UDR fetched successfully!\n",
      "Fetching data for HST...\n"
     ]
    },
    {
     "name": "stderr",
     "output_type": "stream",
     "text": [
      "[*********************100%***********************]  1 of 1 completed\n",
      "[*********************100%***********************]  1 of 1 completed\n"
     ]
    },
    {
     "name": "stdout",
     "output_type": "stream",
     "text": [
      "Data for HST fetched successfully!\n",
      "Fetching data for CPT...\n",
      "Data for CPT fetched successfully!\n",
      "Fetching data for REG...\n"
     ]
    },
    {
     "name": "stderr",
     "output_type": "stream",
     "text": [
      "[*********************100%***********************]  1 of 1 completed\n",
      "[*********************100%***********************]  1 of 1 completed"
     ]
    },
    {
     "name": "stdout",
     "output_type": "stream",
     "text": [
      "Data for REG fetched successfully!\n",
      "Fetching data for BXP...\n",
      "Data for BXP fetched successfully!\n",
      "Covariance matrix computed and saved to: etfdata/XLRE_Holdings_Covariance_Matrix.csv\n",
      "Displaying the covariance matrix:\n",
      "           PLD      EQIX       AMT      WELL       DLR       SPG         O   \n",
      "PLD   0.000242  0.000098  0.000118  0.000064  0.000062  0.000116  0.000078  \\\n",
      "EQIX  0.000098  0.000173  0.000098  0.000055  0.000159  0.000070  0.000037   \n",
      "AMT   0.000118  0.000098  0.000276  0.000061  0.000071  0.000061  0.000120   \n",
      "WELL  0.000064  0.000055  0.000061  0.000146  0.000059  0.000077  0.000059   \n",
      "DLR   0.000062  0.000159  0.000071  0.000059  0.000265  0.000073  0.000015   \n",
      "SPG   0.000116  0.000070  0.000061  0.000077  0.000073  0.000180  0.000067   \n",
      "O     0.000078  0.000037  0.000120  0.000059  0.000015  0.000067  0.000112   \n",
      "PSA   0.000129  0.000107  0.000176  0.000090  0.000097  0.000115  0.000108   \n",
      "CCI   0.000106  0.000074  0.000185  0.000066  0.000051  0.000063  0.000096   \n",
      "CBRE  0.000123  0.000094  0.000124  0.000055  0.000083  0.000102  0.000059   \n",
      "EXR   0.000129  0.000104  0.000169  0.000085  0.000093  0.000116  0.000105   \n",
      "AVB   0.000107  0.000088  0.000079  0.000083  0.000080  0.000090  0.000060   \n",
      "VICI  0.000102  0.000060  0.000116  0.000060  0.000047  0.000077  0.000086   \n",
      "IRM   0.000120  0.000152  0.000165  0.000110  0.000192  0.000130  0.000096   \n",
      "CSGP  0.000110  0.000069  0.000063  0.000025  0.000070  0.000071  0.000025   \n",
      "VTR   0.000068  0.000058  0.000084  0.000108  0.000051  0.000060  0.000070   \n",
      "EQR   0.000107  0.000083  0.000073  0.000083  0.000081  0.000096  0.000067   \n",
      "SBAC  0.000107  0.000091  0.000211  0.000041  0.000059  0.000062  0.000092   \n",
      "WY    0.000148  0.000085  0.000139  0.000030  0.000054  0.000099  0.000077   \n",
      "ESS   0.000131  0.000093  0.000073  0.000082  0.000078  0.000103  0.000058   \n",
      "INVH  0.000109  0.000063  0.000025  0.000065  0.000057  0.000085  0.000044   \n",
      "MAA   0.000098  0.000083  0.000092  0.000061  0.000069  0.000080  0.000069   \n",
      "ARE   0.000163  0.000077  0.000114  0.000055  0.000054  0.000120  0.000084   \n",
      "KIM   0.000121  0.000079  0.000112  0.000078  0.000071  0.000115  0.000083   \n",
      "DOC   0.000126  0.000088  0.000111  0.000087  0.000058  0.000105  0.000085   \n",
      "UDR   0.000108  0.000076  0.000073  0.000073  0.000067  0.000096  0.000064   \n",
      "HST   0.000099  0.000046  0.000002  0.000012  0.000051  0.000112  0.000021   \n",
      "CPT   0.000100  0.000079  0.000087  0.000065  0.000063  0.000080  0.000068   \n",
      "REG   0.000092  0.000056  0.000091  0.000077  0.000046  0.000091  0.000068   \n",
      "BXP   0.000154  0.000100  0.000100  0.000068  0.000100  0.000163  0.000075   \n",
      "\n",
      "           PSA       CCI      CBRE  ...      INVH       MAA       ARE   \n",
      "PLD   0.000129  0.000106  0.000123  ...  0.000109  0.000098  0.000163  \\\n",
      "EQIX  0.000107  0.000074  0.000094  ...  0.000063  0.000083  0.000077   \n",
      "AMT   0.000176  0.000185  0.000124  ...  0.000025  0.000092  0.000114   \n",
      "WELL  0.000090  0.000066  0.000055  ...  0.000065  0.000061  0.000055   \n",
      "DLR   0.000097  0.000051  0.000083  ...  0.000057  0.000069  0.000054   \n",
      "SPG   0.000115  0.000063  0.000102  ...  0.000085  0.000080  0.000120   \n",
      "O     0.000108  0.000096  0.000059  ...  0.000044  0.000069  0.000084   \n",
      "PSA   0.000227  0.000142  0.000134  ...  0.000068  0.000116  0.000140   \n",
      "CCI   0.000142  0.000185  0.000102  ...  0.000027  0.000082  0.000100   \n",
      "CBRE  0.000134  0.000102  0.000323  ... -0.000004  0.000072  0.000119   \n",
      "EXR   0.000204  0.000135  0.000135  ...  0.000065  0.000112  0.000145   \n",
      "AVB   0.000106  0.000061  0.000086  ...  0.000102  0.000110  0.000079   \n",
      "VICI  0.000116  0.000094  0.000098  ...  0.000047  0.000067  0.000104   \n",
      "IRM   0.000175  0.000112  0.000166  ...  0.000071  0.000120  0.000102   \n",
      "CSGP  0.000088  0.000052  0.000173  ...  0.000018  0.000060  0.000099   \n",
      "VTR   0.000094  0.000080  0.000051  ...  0.000050  0.000070  0.000068   \n",
      "EQR   0.000112  0.000062  0.000099  ...  0.000110  0.000105  0.000086   \n",
      "SBAC  0.000147  0.000167  0.000143  ...  0.000006  0.000080  0.000123   \n",
      "WY    0.000137  0.000119  0.000157  ...  0.000053  0.000077  0.000158   \n",
      "ESS   0.000116  0.000068  0.000102  ...  0.000113  0.000111  0.000091   \n",
      "INVH  0.000068  0.000027 -0.000004  ...  0.000204  0.000090  0.000060   \n",
      "MAA   0.000116  0.000082  0.000072  ...  0.000090  0.000135  0.000071   \n",
      "ARE   0.000140  0.000100  0.000119  ...  0.000060  0.000071  0.000262   \n",
      "KIM   0.000126  0.000098  0.000102  ...  0.000077  0.000085  0.000125   \n",
      "DOC   0.000130  0.000097  0.000110  ...  0.000078  0.000084  0.000150   \n",
      "UDR   0.000112  0.000062  0.000076  ...  0.000102  0.000106  0.000087   \n",
      "HST   0.000060 -0.000008  0.000113  ...  0.000064  0.000034  0.000122   \n",
      "CPT   0.000113  0.000075  0.000075  ...  0.000095  0.000124  0.000069   \n",
      "REG   0.000106  0.000077  0.000060  ...  0.000073  0.000074  0.000089   \n",
      "BXP   0.000138  0.000078  0.000177  ...  0.000079  0.000071  0.000191   \n",
      "\n",
      "           KIM       DOC       UDR       HST       CPT       REG       BXP  \n",
      "PLD   0.000121  0.000126  0.000108  0.000099  0.000100  0.000092  0.000154  \n",
      "EQIX  0.000079  0.000088  0.000076  0.000046  0.000079  0.000056  0.000100  \n",
      "AMT   0.000112  0.000111  0.000073  0.000002  0.000087  0.000091  0.000100  \n",
      "WELL  0.000078  0.000087  0.000073  0.000012  0.000065  0.000077  0.000068  \n",
      "DLR   0.000071  0.000058  0.000067  0.000051  0.000063  0.000046  0.000100  \n",
      "SPG   0.000115  0.000105  0.000096  0.000112  0.000080  0.000091  0.000163  \n",
      "O     0.000083  0.000085  0.000064  0.000021  0.000068  0.000068  0.000075  \n",
      "PSA   0.000126  0.000130  0.000112  0.000060  0.000113  0.000106  0.000138  \n",
      "CCI   0.000098  0.000097  0.000062 -0.000008  0.000075  0.000077  0.000078  \n",
      "CBRE  0.000102  0.000110  0.000076  0.000113  0.000075  0.000060  0.000177  \n",
      "EXR   0.000121  0.000139  0.000108  0.000064  0.000115  0.000103  0.000150  \n",
      "AVB   0.000089  0.000100  0.000116  0.000056  0.000112  0.000076  0.000099  \n",
      "VICI  0.000096  0.000090  0.000067  0.000051  0.000067  0.000067  0.000107  \n",
      "IRM   0.000136  0.000124  0.000116  0.000073  0.000115  0.000096  0.000157  \n",
      "CSGP  0.000086  0.000066  0.000064  0.000098  0.000055  0.000046  0.000158  \n",
      "VTR   0.000075  0.000091  0.000068  0.000002  0.000068  0.000078  0.000058  \n",
      "EQR   0.000085  0.000098  0.000121  0.000067  0.000110  0.000071  0.000105  \n",
      "SBAC  0.000099  0.000095  0.000057  0.000024  0.000067  0.000067  0.000127  \n",
      "WY    0.000110  0.000116  0.000081  0.000096  0.000081  0.000071  0.000157  \n",
      "ESS   0.000095  0.000107  0.000130  0.000067  0.000118  0.000079  0.000121  \n",
      "INVH  0.000077  0.000078  0.000102  0.000064  0.000095  0.000073  0.000079  \n",
      "MAA   0.000085  0.000084  0.000106  0.000034  0.000124  0.000074  0.000071  \n",
      "ARE   0.000125  0.000150  0.000087  0.000122  0.000069  0.000089  0.000191  \n",
      "KIM   0.000148  0.000110  0.000089  0.000080  0.000082  0.000100  0.000141  \n",
      "DOC   0.000110  0.000186  0.000096  0.000076  0.000095  0.000090  0.000156  \n",
      "UDR   0.000089  0.000096  0.000125  0.000065  0.000110  0.000076  0.000106  \n",
      "HST   0.000080  0.000076  0.000065  0.000246  0.000042  0.000041  0.000161  \n",
      "CPT   0.000082  0.000095  0.000110  0.000042  0.000137  0.000074  0.000081  \n",
      "REG   0.000100  0.000090  0.000076  0.000041  0.000074  0.000113  0.000091  \n",
      "BXP   0.000141  0.000156  0.000106  0.000161  0.000081  0.000091  0.000328  \n",
      "\n",
      "[30 rows x 30 columns]\n"
     ]
    },
    {
     "name": "stderr",
     "output_type": "stream",
     "text": [
      "\n"
     ]
    }
   ],
   "source": [
    "import pandas as pd\n",
    "import yfinance as yf\n",
    "\n",
    "# Specify the ETF ticker and date range\n",
    "ticker = 'XLRE'\n",
    "start_date = '2024-07-01'\n",
    "end_date = '2024-12-31'\n",
    "\n",
    "# Fetch the ETF holdings manually or via an online API (this step assumes we have a predefined list of holdings)\n",
    "holdings = [\n",
    "    'PLD', 'EQIX', 'AMT', 'WELL', 'DLR', 'SPG', 'O', 'PSA', 'CCI', 'CBRE',\n",
    "    'EXR', 'AVB', 'VICI', 'IRM', 'CSGP', 'VTR', 'EQR', 'SBAC', 'WY', 'ESS',\n",
    "    'INVH', 'MAA', 'ARE', 'KIM', 'DOC', 'UDR', 'HST', 'CPT', 'REG', 'BXP'\n",
    "]\n",
    "\n",
    "# Fetch historical price data for all holdings\n",
    "all_data = {}\n",
    "for holding in holdings:\n",
    "    print(f\"Fetching data for {holding}...\")\n",
    "    try:\n",
    "        data = yf.download(holding, start=start_date, end=end_date)\n",
    "        data['Daily_Returns'] = data['Close'].pct_change()\n",
    "        all_data[holding] = data['Daily_Returns']\n",
    "        print(f\"Data for {holding} fetched successfully!\")\n",
    "    except Exception as e:\n",
    "        print(f\"Error fetching data for {holding}: {e}\")\n",
    "\n",
    "# Combine the data into a single DataFrame\n",
    "returns_df = pd.DataFrame(all_data)\n",
    "\n",
    "# Drop rows with NaN values\n",
    "returns_df = returns_df.dropna()\n",
    "\n",
    "# Compute the covariance matrix\n",
    "cov_matrix = returns_df.cov()\n",
    "\n",
    "# Save the covariance matrix to a CSV file\n",
    "cov_output_file = 'etfdata/XLRE_Holdings_Covariance_Matrix.csv'\n",
    "cov_matrix.to_csv(cov_output_file)\n",
    "\n",
    "print(f\"Covariance matrix computed and saved to: {cov_output_file}\")\n",
    "\n",
    "# Display the covariance matrix\n",
    "print(\"Displaying the covariance matrix:\")\n",
    "print(cov_matrix)\n"
   ]
  },
  {
   "cell_type": "code",
   "execution_count": 2,
   "id": "1f39c5b2-57c9-4a9b-9b96-b49360219c45",
   "metadata": {
    "tags": []
   },
   "outputs": [
    {
     "name": "stdout",
     "output_type": "stream",
     "text": [
      "Performing PCA...\n",
      "PCA completed.\n",
      "Eigenvalues: [2.96434731e-03 5.29146684e-04 5.24179032e-04 3.74450791e-04\n",
      " 2.46364176e-04 1.95793386e-04 1.66421538e-04 1.24935882e-04\n",
      " 1.11947617e-04 1.06674279e-04 8.71470045e-05 8.00792008e-05\n",
      " 6.95598032e-05 6.71878436e-05 6.13022393e-05 5.14403018e-05\n",
      " 4.91260454e-05 4.21258116e-05 3.98885856e-05 3.82149865e-05\n",
      " 3.29917800e-05 2.58857014e-05 2.39912205e-05 2.04712486e-05\n",
      " 1.79354448e-05 1.66139455e-05 1.12955118e-05 8.56802169e-06\n",
      " 7.97479562e-06 6.45140603e-06]\n",
      "Explained Variance Ratio: [0.48575857 0.08670966 0.08589562 0.06136011 0.04037095 0.03208407\n",
      " 0.02727099 0.02047286 0.01834452 0.01748039 0.01428051 0.01312233\n",
      " 0.01139855 0.01100987 0.01004541 0.00842937 0.00805014 0.00690303\n",
      " 0.00653642 0.00626217 0.00540626 0.00424181 0.00393137 0.00335456\n",
      " 0.00293903 0.00272248 0.00185096 0.00140402 0.00130681 0.00105717]\n"
     ]
    }
   ],
   "source": [
    "from sklearn.decomposition import PCA\n",
    "import numpy as np\n",
    "\n",
    "# Perform PCA on the daily returns\n",
    "print(\"Performing PCA...\")\n",
    "pca = PCA()\n",
    "pca.fit(returns_df)\n",
    "\n",
    "# Extract PCA results\n",
    "eigenvalues = pca.explained_variance_\n",
    "eigenvectors = pca.components_\n",
    "explained_variance_ratio = pca.explained_variance_ratio_\n",
    "\n",
    "# Save PCA results to CSV files\n",
    "np.savetxt('etfdata/PCA_Eigenvalues.csv', eigenvalues, delimiter=',')\n",
    "np.savetxt('etfdata/PCA_Eigenvectors.csv', eigenvectors, delimiter=',')\n",
    "np.savetxt('etfdata/PCA_Explained_Variance_Ratio.csv', explained_variance_ratio, delimiter=',')\n",
    "\n",
    "print(\"PCA completed.\")\n",
    "print(\"Eigenvalues:\", eigenvalues)\n",
    "print(\"Explained Variance Ratio:\", explained_variance_ratio)\n"
   ]
  },
  {
   "cell_type": "code",
   "execution_count": 3,
   "id": "680fd44c-4e52-4562-ac54-4ea175b7cf81",
   "metadata": {
    "tags": []
   },
   "outputs": [
    {
     "name": "stdout",
     "output_type": "stream",
     "text": [
      "Performing SVD...\n",
      "SVD completed.\n",
      "Singular Values (Sigma): [0.61038801 0.25718633 0.25606936 0.21828746 0.17554649 0.15909967\n",
      " 0.14423152 0.12562303 0.11844206 0.11566354 0.10686279 0.10014129\n",
      " 0.09334947 0.0917205  0.08844379 0.08056252 0.07846066 0.07321125\n",
      " 0.07135243 0.0693344  0.06423506 0.05689221 0.05480635 0.05083874\n",
      " 0.04739841 0.04557295 0.03757755 0.03275304 0.03172439 0.0283986 ]\n"
     ]
    }
   ],
   "source": [
    "from numpy.linalg import svd\n",
    "import numpy as np\n",
    "\n",
    "# Perform Singular Value Decomposition (SVD) on the daily returns\n",
    "print(\"Performing SVD...\")\n",
    "U, Sigma, Vt = svd(returns_df, full_matrices=False)\n",
    "\n",
    "# Save SVD results to CSV files\n",
    "np.savetxt('etfdata/SVD_U.csv', U, delimiter=',')\n",
    "np.savetxt('etfdata/SVD_Sigma.csv', Sigma, delimiter=',')\n",
    "np.savetxt('etfdata/SVD_Vt.csv', Vt, delimiter=',')\n",
    "\n",
    "# Display the singular values\n",
    "print(\"SVD completed.\")\n",
    "print(\"Singular Values (Sigma):\", Sigma)"
   ]
  },
  {
   "cell_type": "code",
   "execution_count": null,
   "id": "f0ab26c7-e66b-40ef-8e2c-43f619f92419",
   "metadata": {},
   "outputs": [],
   "source": []
  }
 ],
 "metadata": {
  "kernelspec": {
   "display_name": "Python 3 (ipykernel)",
   "language": "python",
   "name": "python3"
  },
  "language_info": {
   "codemirror_mode": {
    "name": "ipython",
    "version": 3
   },
   "file_extension": ".py",
   "mimetype": "text/x-python",
   "name": "python",
   "nbconvert_exporter": "python",
   "pygments_lexer": "ipython3",
   "version": "3.12.3"
  }
 },
 "nbformat": 4,
 "nbformat_minor": 5
}
