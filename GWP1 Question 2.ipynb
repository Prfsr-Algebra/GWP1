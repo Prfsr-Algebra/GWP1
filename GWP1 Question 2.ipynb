{
 "cells": [
  {
   "cell_type": "markdown",
   "id": "f7b5b515-9a21-4a24-8d11-2b43317c66d9",
   "metadata": {},
   "source": [
    "### Question 2"
   ]
  },
  {
   "cell_type": "markdown",
   "id": "dc533102-2334-4af5-b016-9d06a8a01d04",
   "metadata": {},
   "source": [
    "#### A. Data Source:\n",
    "[DMO website](https://www.dmo.gov.ng/fgn-bonds/fgn-bond-updates/1935-fgn-bonds-weekly-trading-highlights-report-as-at-february-06-to-february-10-2017/file)\n",
    "\n",
    "The Government security picked is from NIGERIA, the country of two of the group member"
   ]
  },
  {
   "cell_type": "markdown",
   "id": "7b7ad350-9b02-4158-9337-6bd86cfcde96",
   "metadata": {},
   "source": [
    "##### About DMO:\n",
    "DMO is the acronym od Debt Management Office, it was created in October 4, 2000 to coordinate the management of Nigeria's debt. ([Debt Management Office](https://www.dmo.gov.ng/about-dmo))"
   ]
  },
  {
   "cell_type": "markdown",
   "id": "ee62a46a-a26a-4c00-9895-0bfc8fba55a8",
   "metadata": {},
   "source": [
    "#### B. Defining the Maturity and Yield array according to the data source"
   ]
  },
  {
   "cell_type": "code",
   "execution_count": 13,
   "id": "1616cb44-e283-4cc5-afe4-8cd0b648c239",
   "metadata": {},
   "outputs": [
    {
     "data": {
      "text/html": [
       "<div>\n",
       "<style scoped>\n",
       "    .dataframe tbody tr th:only-of-type {\n",
       "        vertical-align: middle;\n",
       "    }\n",
       "\n",
       "    .dataframe tbody tr th {\n",
       "        vertical-align: top;\n",
       "    }\n",
       "\n",
       "    .dataframe thead th {\n",
       "        text-align: right;\n",
       "    }\n",
       "</style>\n",
       "<table border=\"1\" class=\"dataframe\">\n",
       "  <thead>\n",
       "    <tr style=\"text-align: right;\">\n",
       "      <th></th>\n",
       "      <th>Maturity</th>\n",
       "      <th>Yield (%)</th>\n",
       "    </tr>\n",
       "  </thead>\n",
       "  <tbody>\n",
       "    <tr>\n",
       "      <th>0</th>\n",
       "      <td>0.21</td>\n",
       "      <td>14.05</td>\n",
       "    </tr>\n",
       "    <tr>\n",
       "      <th>1</th>\n",
       "      <td>0.46</td>\n",
       "      <td>18.20</td>\n",
       "    </tr>\n",
       "    <tr>\n",
       "      <th>2</th>\n",
       "      <td>0.55</td>\n",
       "      <td>19.12</td>\n",
       "    </tr>\n",
       "    <tr>\n",
       "      <th>3</th>\n",
       "      <td>1.30</td>\n",
       "      <td>19.79</td>\n",
       "    </tr>\n",
       "    <tr>\n",
       "      <th>4</th>\n",
       "      <td>2.38</td>\n",
       "      <td>16.13</td>\n",
       "    </tr>\n",
       "    <tr>\n",
       "      <th>5</th>\n",
       "      <td>2.70</td>\n",
       "      <td>16.35</td>\n",
       "    </tr>\n",
       "    <tr>\n",
       "      <th>6</th>\n",
       "      <td>3.01</td>\n",
       "      <td>16.56</td>\n",
       "    </tr>\n",
       "    <tr>\n",
       "      <th>7</th>\n",
       "      <td>4.42</td>\n",
       "      <td>16.56</td>\n",
       "    </tr>\n",
       "    <tr>\n",
       "      <th>8</th>\n",
       "      <td>4.96</td>\n",
       "      <td>16.23</td>\n",
       "    </tr>\n",
       "    <tr>\n",
       "      <th>9</th>\n",
       "      <td>7.09</td>\n",
       "      <td>16.20</td>\n",
       "    </tr>\n",
       "    <tr>\n",
       "      <th>10</th>\n",
       "      <td>8.95</td>\n",
       "      <td>16.76</td>\n",
       "    </tr>\n",
       "    <tr>\n",
       "      <th>11</th>\n",
       "      <td>11.80</td>\n",
       "      <td>16.50</td>\n",
       "    </tr>\n",
       "    <tr>\n",
       "      <th>12</th>\n",
       "      <td>12.28</td>\n",
       "      <td>16.46</td>\n",
       "    </tr>\n",
       "    <tr>\n",
       "      <th>13</th>\n",
       "      <td>12.78</td>\n",
       "      <td>16.42</td>\n",
       "    </tr>\n",
       "    <tr>\n",
       "      <th>14</th>\n",
       "      <td>13.45</td>\n",
       "      <td>16.36</td>\n",
       "    </tr>\n",
       "    <tr>\n",
       "      <th>15</th>\n",
       "      <td>17.43</td>\n",
       "      <td>16.00</td>\n",
       "    </tr>\n",
       "    <tr>\n",
       "      <th>16</th>\n",
       "      <td>19.10</td>\n",
       "      <td>16.84</td>\n",
       "    </tr>\n",
       "  </tbody>\n",
       "</table>\n",
       "</div>"
      ],
      "text/plain": [
       "    Maturity  Yield (%)\n",
       "0       0.21      14.05\n",
       "1       0.46      18.20\n",
       "2       0.55      19.12\n",
       "3       1.30      19.79\n",
       "4       2.38      16.13\n",
       "5       2.70      16.35\n",
       "6       3.01      16.56\n",
       "7       4.42      16.56\n",
       "8       4.96      16.23\n",
       "9       7.09      16.20\n",
       "10      8.95      16.76\n",
       "11     11.80      16.50\n",
       "12     12.28      16.46\n",
       "13     12.78      16.42\n",
       "14     13.45      16.36\n",
       "15     17.43      16.00\n",
       "16     19.10      16.84"
      ]
     },
     "execution_count": 13,
     "metadata": {},
     "output_type": "execute_result"
    }
   ],
   "source": [
    "import pandas as pd\n",
    "import numpy as np\n",
    "import matplotlib.pyplot as plt\n",
    "maturities = [0.21, 0.46, 0.55, 1.30, 2.38, 2.70, 3.01, 4.42, 4.96, 7.09, 8.95, 11.80, 12.28, 12.78, 13.45, 17.43, 19.10]\n",
    "yields = [14.05, 18.20, 19.12, 19.79, 16.13, 16.35, 16.56, 16.56, 16.23, 16.20, 16.76, 16.50, 16.46, 16.42, 16.36, 16.00, 16.84 ]\n",
    "bond_dict = {\"Maturity\": maturities, \"Yield (%)\": yields}\n",
    "bond = pd.DataFrame(bond_dict)\n",
    "bond"
   ]
  },
  {
   "cell_type": "markdown",
   "id": "88ea705e-3338-426d-a3d9-542d7556048b",
   "metadata": {},
   "source": [
    "##### Plotting the yield curve for the data"
   ]
  },
  {
   "cell_type": "code",
   "execution_count": 14,
   "id": "7eeedde4-d6d7-47a0-8d70-c008efd7c83e",
   "metadata": {},
   "outputs": [
    {
     "data": {
      "image/png": "[encoded data removed]",
      "text/plain": [
       "<Figure size 1000x600 with 1 Axes>"
      ]
     },
     "metadata": {},
     "output_type": "display_data"
    }
   ],
   "source": [
    "plt.figure(figsize=(10, 6))\n",
    "plt.plot(bond[\"Maturity\"], bond[\"Yield (%)\"]/100, marker='o', linestyle='-', color='b', label='Yield Curve')\n",
    "plt.title(\"Bond Yield Curve\")\n",
    "plt.xlabel(\"Maturity (Years)\")\n",
    "plt.ylabel(\"Yield (%)\")\n",
    "plt.legend()\n",
    "plt.grid(True)\n",
    "plt.show()"
   ]
  },
  {
   "cell_type": "markdown",
   "id": "f449b70e-5b47-45b2-8bd6-4cc651a6f35e",
   "metadata": {},
   "source": [
    "#### C. Fitting Nelson Siegel model"
   ]
  },
  {
   "cell_type": "markdown",
   "id": "8ea0d6c6-1e57-4486-931a-506c8b4dbc75",
   "metadata": {},
   "source": [
    "##### Nelson-Siegel Yield Curve Formula\n",
    "\n",
    "The Nelson-Siegel yield curve is given by:\n",
    "$$\n",
    "y(t) = \\beta_0 + \\beta_1 \\cdot \\frac{1 - e^{-\\lambda t}}{\\lambda t} + \\beta_2 \\cdot \\left( \\frac{1 - e^{-\\lambda t}}{\\lambda t} - e^{-\\lambda t} \\right)\n",
    "$$\n",
    "\n",
    "Where:\n",
    "- $y(t)$: Yield for a given maturity\n",
    "- $\\beta_0$: Long-term level of interest rates\n",
    "- $\\beta_1$: Short-term component\n",
    "- $\\beta_2$: Medium-term component (hump shape)\n",
    "- $\\lambda$: Decay factor controlling the exponential rate of decline\n",
    "\n",
    "Note: lambda in the formula is the same as tau in the code, I use lambda in the formula because of the ressemblance of tau and t as t is also present in the formula\n"
   ]
  },
  {
   "cell_type": "code",
   "execution_count": 15,
   "id": "015887ab-842a-49aa-945a-40b9523424ae",
   "metadata": {},
   "outputs": [
    {
     "name": "stdout",
     "output_type": "stream",
     "text": [
      "NelsonSiegelCurve(beta0=np.float64(0.15955966972332303), beta1=np.float64(-0.15098613747320497), beta2=np.float64(0.2995051539138278), tau=np.float64(0.21970466519503065))\n",
      "Beta0: 0.15955966972332303\n",
      "Beta1: -0.15098613747320497\n",
      "Beta2: 0.2995051539138278\n",
      "Tau: 0.21970466519503065\n"
     ]
    },
    {
     "data": {
      "image/png": "[encoded data removed]",
      "text/plain": [
       "<Figure size 640x480 with 1 Axes>"
      ]
     },
     "metadata": {},
     "output_type": "display_data"
    }
   ],
   "source": [
    "from nelson_siegel_svensson.calibrate import calibrate_ns_ols\n",
    "t = np.array(bond[\"Maturity\"])\n",
    "y = np.array(bond[\"Yield (%)\"]/100)\n",
    "curve, status = calibrate_ns_ols(t, y, tau0 = 1.0) \n",
    "assert status.success \n",
    "print(curve)\n",
    "\n",
    "y_ns = curve\n",
    "t_ns = np.linspace(0.5, 30, 100)\n",
    "plt.plot(t_ns, y_ns(t_ns))\n",
    "plt.xlabel(\"Maturity\")\n",
    "plt.ylabel(\"Yield (%)\")\n",
    "plt.title(\"NS Model\")\n",
    "\n",
    "# Extract parameters\n",
    "\n",
    "beta0 = curve.beta0\n",
    "beta1 = curve.beta1\n",
    "beta2 = curve.beta2\n",
    "tau = curve.tau\n",
    "\n",
    "print(f\"Beta0: {beta0}\")\n",
    "print(f\"Beta1: {beta1}\")\n",
    "print(f\"Beta2: {beta2}\")\n",
    "print(f\"Tau: {tau}\")\n"
   ]
  },
  {
   "cell_type": "markdown",
   "id": "32d16f59-0fda-4807-bd58-c7ebdbe0fd8f",
   "metadata": {},
   "source": [
    "#### D. Cubic Spline Interpolation"
   ]
  },
  {
   "cell_type": "code",
   "execution_count": 16,
   "id": "ac9b6476-f559-4163-93d0-fb87e3388ad1",
   "metadata": {},
   "outputs": [
    {
     "name": "stdout",
     "output_type": "stream",
     "text": [
      "[0.1912 0.1656 0.165  0.1684]\n"
     ]
    }
   ],
   "source": [
    "#Selecting the Datapoints for the Interpolation\n",
    "t_s = np.array([0.55, 3.01, 11.80, 19.10])\n",
    "y_percent = np.array([19.12, 16.56, 16.50, 16.84])\n",
    "y_s = y_percent/100\n",
    "print(y_s)"
   ]
  },
  {
   "cell_type": "markdown",
   "id": "700b5160-1c17-4f10-94b7-3d8e11ce0d8a",
   "metadata": {},
   "source": [
    "##### Creating the spline equations"
   ]
  },
  {
   "cell_type": "markdown",
   "id": "659db363-8329-4985-bd6e-aabfe8a0eade",
   "metadata": {},
   "source": [
    "$$\n",
    "\\begin{aligned}\n",
    "f(x) &= a_1x^3 + b_1x^2 + c_1x + d_1 & \\text{when } 0.55 \\leq x \\leq 3.01 \\\\\n",
    "f(x) &= a_2x^3 + b_2x^2 + c_2x + d_2 & \\text{when } 3.01 \\leq x \\leq 11.80 \\\\\n",
    "f(x) &= a_3x^3 + b_3x^2 + c_3x + d_3 & \\text{when } 11.80 \\leq x \\leq 19.10\n",
    "\\end{aligned}\n",
    "$$"
   ]
  },
  {
   "cell_type": "markdown",
   "id": "c86c89a6-417f-42e6-88ca-ec4d391ec5ae",
   "metadata": {},
   "source": [
    "##### Each spline will go through two consecutive Datapoints"
   ]
  },
  {
   "cell_type": "markdown",
   "id": "75d84cd3-20b9-4674-8053-3e27bb2d9281",
   "metadata": {},
   "source": [
    "$$\n",
    "\\begin{aligned}\n",
    "a_1(0.55)^3 + b_1(0.55)^2 + c_1(0.55) + d_1 = 0.1912 ................................................. (1)\\\\\n",
    "a_1(3.01)^3 + b_1(3.01)^2 + c_1(3.01) + d_1 = 0.1656 ................................................ (2)\\\\\n",
    "a_2(3.01)^3 + b_2(3.01)^2 + c_2(3.01) + d_2  = 0.1656 ................................................ (3)\\\\\n",
    "a_2(11.80)^3 + b_2(11.80)^2 + c_2(11.80) + d_2 = 0.1650 ...............................................(4)\\\\\n",
    "a_3(11.80)^3 + b_3(11.80)^2 + c_3(11.80) + d_3= 0.1650 ...............................................(5)\\\\\n",
    "a_3(19.10)^3 + b_3(19.10)^2 + c_3(19.10) + d_3 = 0.1684 ...............................................(6)\\\\\n",
    "\\end{aligned}\n",
    "$$"
   ]
  },
  {
   "cell_type": "markdown",
   "id": "0cb6c107-aac7-42b2-90a9-b088c456b100",
   "metadata": {},
   "source": [
    "##### Obtaining the equation of the first derivative of two consecutive splines, being continuous at their interior point"
   ]
  },
  {
   "cell_type": "markdown",
   "id": "ce211a01-c4e6-4cf8-b86f-62153dcf372c",
   "metadata": {},
   "source": [
    "$$\n",
    "\\begin{align}\n",
    "3a_1(3.01)^2 + 2b_1(3.01) + c_1 - 3a_2(3.01)^2 - 2b_2(3.01) - c_1 = 0 ...........................(7)\\\\\n",
    "3a_2(11.80)^2 + 2b_2(11.80) + c_2 - 3a_3(11.80)^2 - 2b_3(11.80) - c_3 = 0 .......................(8)\n",
    "\\end{align}\n",
    "$$"
   ]
  },
  {
   "cell_type": "markdown",
   "id": "b3529bd0-08e5-4cfc-bfcc-b33d8a8cac00",
   "metadata": {},
   "source": [
    "##### Obtaining the equation of the second derivative of two consecutive splines continuous at their interior point"
   ]
  },
  {
   "cell_type": "markdown",
   "id": "2e385871-fafb-4baf-83f3-416870ea4034",
   "metadata": {},
   "source": [
    "$$\n",
    "\\begin{align}\n",
    "6a_1(3.01) + 2b_1 - 6a_2(3.01) - 2b_2 = 0 ....................................(9)\\\\\n",
    "6a_2(11.80) + 2b_2 - 6a_3(11.80) - 2b_3 = 0...................................(10)\n",
    "\\end{align}\n",
    "$$"
   ]
  },
  {
   "cell_type": "markdown",
   "id": "63b6994f-a8ea-4ca8-b27f-bce0881a7d1c",
   "metadata": {},
   "source": [
    "##### Obtaining the equations of the boundary conditions"
   ]
  },
  {
   "cell_type": "markdown",
   "id": "1970ccb1-2f10-43b4-af3b-f2c418da6e4a",
   "metadata": {},
   "source": [
    "$$\n",
    "\\begin{align}\n",
    "6a_1(0.55) + 2b_1 = 0 ...............................................(11)\\\\\n",
    "6a_3(19.10) + 2b_3 = 0 ..............................................(12)\n",
    "\\end{align}\n",
    "$$"
   ]
  },
  {
   "cell_type": "markdown",
   "id": "0ac2031d-a38f-4f57-a1b1-7de9ebce92b4",
   "metadata": {},
   "source": [
    "##### Represnting the equations with matrix"
   ]
  },
  {
   "cell_type": "markdown",
   "id": "eacdf7c1-d06d-46f8-bac2-9e01fc542651",
   "metadata": {},
   "source": [
    "$$\n",
    "\\begin{aligned}\n",
    "A * c = y\\\\\n",
    "c = A^{-1} * y\\\\\n",
    "\\end{aligned}\n",
    "$$\n",
    "<br>\n",
    "<br>\n",
    "$$\n",
    "\\begin{bmatrix}\n",
    "a_1\\\\\n",
    "b_1\\\\\n",
    "c_1\\\\\n",
    "d_1\\\\\n",
    "a_2\\\\\n",
    "b_2\\\\\n",
    "d_2\\\\\n",
    "a_3\\\\\n",
    "b_3\\\\\n",
    "c_3\\\\\n",
    "d_3\n",
    "\\end{bmatrix}\n",
    "= \\begin{bmatrix}\n",
    "0.1664 & 0.3025 & 0.55 & 1 & 0 & 0 & 0 & 0 & 0 & 0 & 0 & 0 \\\\\n",
    "27.2709 & 9.0601 & 3.01 & 1 & 0 & 0 & 0 & 0 & 0 & 0 & 0 & 0\\\\\n",
    "0 & 0 & 0 & 0 & 27.2709 & 9.0601 & 3.01 & 1 & 0 & 0 & 0 & 0\\\\\n",
    "0 & 0 & 0 & 0 & 1643.032 & 139.24 & 11.80 & 1 & 0 & 0 & 0 & 0\\\\\n",
    "0 & 0 & 0 & 0 & 0 & 0 & 0 & 0 & 1643.032 & 139.24 & 11.80 & 1\\\\\n",
    "0 & 0 & 0 & 0 & 0 & 0 & 0 & 0 & 6967.871 & 364.81 & 19.10 & 1\\\\\n",
    "27.1803 & 6.02 & 1 & 0 & -27.1803 & -6.02 & -1 & 0 & 0 & 0 & 0 & 0\\\\\n",
    "0 & 0 & 0 & 0 & 417.72 & 23.6 & 1 & 0 & -417.72 & -23.6 & -1 & 0\\\\\n",
    "18.06 & 2 & 0 & 0 & -18.06 & -2 & 0 & 0 & 0 & 0 & 0 & 0\\\\\n",
    "0 & 0 & 0 & 0 & 70.8 & 2 & 0 & 0 & -70.8 & -2 & 0 & 0\\\\\n",
    "3.33 & 2 & 0 & 0 & 0 & 0 & 0 & 0 & 0 & 0 & 0 & 0\\\\\n",
    "0 & 0 & 0 & 0 & 0 & 0 & 0 & 0 & 114.6 & 2 & 0 & 0\n",
    "\\end{bmatrix}^{-1}\\bullet\\begin{bmatrix}\n",
    "0.1912\\\\\n",
    "0.1656\\\\\n",
    "0.1656\\\\\n",
    "0.1650\\\\\n",
    "0.1650\\\\\n",
    "0.1684\\\\\n",
    "0\\\\\n",
    "0\\\\\n",
    "0\\\\\n",
    "0\\\\\n",
    "0\\\\\n",
    "0\n",
    "\\end{bmatrix}\n",
    "$$"
   ]
  },
  {
   "cell_type": "code",
   "execution_count": 17,
   "id": "ce46eb45-b300-41d4-9330-52c455aaf100",
   "metadata": {},
   "outputs": [
    {
     "name": "stdout",
     "output_type": "stream",
     "text": [
      "[[ 2.06613038e-04 -3.44010709e-04 -1.14583069e-02  1.97571752e-01]\n",
      " [-7.15804569e-05  2.16807655e-03 -1.90196895e-02  2.05158339e-01]\n",
      " [ 1.67064667e-05 -9.57280543e-04  1.78595242e-02  6.01000980e-02]]\n"
     ]
    }
   ],
   "source": [
    "A = np.array([[0.1664, 0.3025, 0.55, 1, 0, 0, 0, 0, 0, 0, 0, 0],\n",
    "              [27.2709, 9.0601, 3.01, 1, 0, 0, 0, 0, 0, 0, 0, 0],\n",
    "              [0, 0, 0, 0, 27.2709, 9.0601, 3.01, 1, 0, 0, 0, 0],\n",
    "              [0, 0, 0, 0, 1643.032, 139.24, 11.80, 1, 0, 0, 0, 0],\n",
    "              [0, 0, 0, 0, 0, 0, 0, 0, 1643.032, 139.24, 11.80, 1],\n",
    "              [0, 0, 0, 0, 0, 0, 0, 0, 6967.871, 364.81, 19.10, 1],\n",
    "              [27.1803, 6.02, 1, 0, -27.1803, -6.02, -1, 0, 0, 0, 0, 0],\n",
    "              [0, 0, 0, 0, 417.72, 23.6, 1, 0, -417.72, -23.6, -1, 0],\n",
    "              [18.06, 2, 0, 0, -18.06, -2, 0, 0, 0, 0, 0, 0],\n",
    "              [0, 0, 0, 0, 70.8, 2, 0, 0, -70.8, -2, 0, 0],\n",
    "              [3.33, 2, 0, 0, 0, 0, 0, 0, 0, 0, 0, 0],\n",
    "              [0, 0, 0, 0, 0, 0, 0, 0, 114.6, 2, 0, 0]])\n",
    "y = np.array([0.1912, 0.1656, 0.1656, 0.1650, 0.1650, 0.1684, 0, 0, 0, 0, 0, 0])\n",
    "c = (np.dot(np.linalg.inv(A), y)).reshape(3, -1)\n",
    "print(c)"
   ]
  },
  {
   "cell_type": "markdown",
   "id": "45db0ff5-208f-42a8-9ddb-c8cca1d6a05a",
   "metadata": {},
   "source": [
    "##### Writting the function that calculates:\n",
    "$$x^0 + x^1 + x^2 + x^3$$"
   ]
  },
  {
   "cell_type": "code",
   "execution_count": 18,
   "id": "153b83c7-1f2b-4220-a734-5277e5696487",
   "metadata": {},
   "outputs": [],
   "source": [
    "def spline_interpol(coeffs, variables):\n",
    "    expansion = np.hstack([coeffs[i]*(variables**i)for i in range(0, len(coeffs))])\n",
    "    return np.sum(expansion, axis = 1)"
   ]
  },
  {
   "cell_type": "markdown",
   "id": "e2c1ce26-d00b-48d5-b8e9-f9f258642b2d",
   "metadata": {},
   "source": [
    "##### Simulating 100 values of x and applying the above function to get the respective values of y"
   ]
  },
  {
   "cell_type": "code",
   "execution_count": 19,
   "id": "d57899c1-266a-423e-9d30-c3b2fccc6ecd",
   "metadata": {},
   "outputs": [],
   "source": [
    "x_values = np.linspace(0.55,19.10,500)\n",
    "# for values of x that are less than 5\n",
    "y_1 = spline_interpol(c[0][::-1], x_values[x_values < 3.01].reshape(-1, 1))\n",
    "# for values of x that are greater than or equal to 5 to x < 10\n",
    "y_2 = spline_interpol(c[1][::-1], x_values[(x_values >= 3.01) & (x_values < 11.80)].reshape(-1, 1))\n",
    "# from 10 to 30\n",
    "y_3 = spline_interpol(c[2][::-1], x_values[x_values >= 11.80].reshape(-1, 1))\n",
    "y_values = np.concatenate([y_1, y_2, y_3])"
   ]
  },
  {
   "cell_type": "markdown",
   "id": "f99dc57b-98d1-49ab-9298-74471be63b07",
   "metadata": {},
   "source": [
    "##### Plotting the result"
   ]
  },
  {
   "cell_type": "code",
   "execution_count": 20,
   "id": "f435f09a-d7f9-4325-ba16-82a356e44f75",
   "metadata": {},
   "outputs": [
    {
     "data": {
      "image/png": "[encoded data removed]",
      "text/plain": [
       "<Figure size 640x480 with 1 Axes>"
      ]
     },
     "metadata": {},
     "output_type": "display_data"
    }
   ],
   "source": [
    "plt.plot(x_values, y_values)\n",
    "plt.scatter(t_s, y_s, c = \"red\")\n",
    "plt.xlabel(\"Maturity\")\n",
    "plt.ylabel(\"Yields\")\n",
    "plt.title(\"Cubic spline fitting\")\n",
    "plt.show()"
   ]
  },
  {
   "cell_type": "markdown",
   "id": "fd3c208b-6986-479f-bf44-8f50b3e42857",
   "metadata": {},
   "source": [
    "#### E. Comparison of the models:"
   ]
  },
  {
   "cell_type": "markdown",
   "id": "7d65be56-28a2-4eff-9a0f-ccfad2e555c1",
   "metadata": {},
   "source": [
    "##### In terms of fit:\n",
    "\n",
    "1. NS model is very smooth and is more ideal for capturing general trends. (Nelson & Siegel 473 - 489)\n",
    "2. Cubic spline model offers high flexibility which gives it the advantage of fixing irregularies in data points and the disadvantage of overfitting ( McCulloch 811 - 830)"
   ]
  },
  {
   "cell_type": "markdown",
   "id": "da6c1001-4f4c-4a57-8c1b-fdff9bf1c70b",
   "metadata": {},
   "source": [
    "##### In terms of interpretation:\n",
    "1. The parameters of NS fitting has economic meaning capturing long term, short term and medium term yield curve component (Nelson and Siegel 473 - 489)\n",
    "2. The parameters of cubic spline model are purely mathematical and don't have direct economic interpretation(Adams and Van 1 - 15)"
   ]
  },
  {
   "cell_type": "markdown",
   "id": "28e23146-dadc-4cc4-9986-129df80d4c45",
   "metadata": {},
   "source": [
    "#### F. Parameters:\n",
    "\n",
    "The parameters are outlined under the codes for each model"
   ]
  },
  {
   "cell_type": "markdown",
   "id": "096f9a97-47e5-4636-bd97-bff3a635f0af",
   "metadata": {},
   "source": [
    "##### NS model Parameters:"
   ]
  },
  {
   "cell_type": "code",
   "execution_count": 21,
   "id": "e398dd61-0ae6-4ba8-93db-cb29e7f825bf",
   "metadata": {},
   "outputs": [
    {
     "name": "stdout",
     "output_type": "stream",
     "text": [
      "Beta0: 0.15955966972332303\n",
      "Beta1: -0.15098613747320497\n",
      "Beta2: 0.2995051539138278\n",
      "Tau: 0.21970466519503065\n"
     ]
    }
   ],
   "source": [
    "beta0 = curve.beta0\n",
    "beta1 = curve.beta1\n",
    "beta2 = curve.beta2\n",
    "tau = curve.tau\n",
    "\n",
    "print(f\"Beta0: {beta0}\")\n",
    "print(f\"Beta1: {beta1}\")\n",
    "print(f\"Beta2: {beta2}\")\n",
    "print(f\"Tau: {tau}\")"
   ]
  },
  {
   "cell_type": "markdown",
   "id": "f28d018f-978f-49f5-b1c6-8d50c9f84b35",
   "metadata": {},
   "source": [
    "##### Cubic Spline Parameters"
   ]
  },
  {
   "cell_type": "code",
   "execution_count": 22,
   "id": "1fff2146-b1da-473a-acea-bfc84a022f20",
   "metadata": {},
   "outputs": [
    {
     "name": "stdout",
     "output_type": "stream",
     "text": [
      "[[ 2.06613038e-04 -3.44010709e-04 -1.14583069e-02  1.97571752e-01]\n",
      " [-7.15804569e-05  2.16807655e-03 -1.90196895e-02  2.05158339e-01]\n",
      " [ 1.67064667e-05 -9.57280543e-04  1.78595242e-02  6.01000980e-02]]\n"
     ]
    }
   ],
   "source": [
    "print(c)"
   ]
  },
  {
   "cell_type": "markdown",
   "id": "d9bf7d02-da8e-4f9a-85d0-039a417ae450",
   "metadata": {},
   "source": [
    "The parameters of cubic spline are arranged in the pattern below:\n",
    "\n",
    "the output of the matrix above is of the form:\n",
    "$$c = \\begin{bmatrix}\n",
    "    a_1 & b_1 & c_1 & d_1 \\\\\n",
    "    a_2 & b_2 & c_2 & d_2 \\\\\n",
    "    a_3 & b_3 & c_3 & d_3 \n",
    "\\end{bmatrix}$$"
   ]
  },
  {
   "cell_type": "markdown",
   "id": "f0c364b3-0fb5-4d33-a64f-73cdac251391",
   "metadata": {
    "jp-MarkdownHeadingCollapsed": true
   },
   "source": [
    "#### References:\n",
    "1. Debt Management Office, \"FGN bonds update\", 13 february, 2017, https://www.dmo.gov.ng/fgn-bonds/fgn-bond-updates/1935-fgn-bonds-weekly-trading-highlights-report-as-at-february-06-to-february-10-2017/file.\n",
    "2. Nelson, Charles R., and Andrew F. Siegel. \"Parsimonious Modeling of Yield Curves.\" *The Journal of Business*, vol. 60, no. 4, 1987, pp. 473-489.\n",
    "3. McCulloch, John H. \"The Tax-Adjusted Yield Curve.\" The Journal of Finance, vol. 30, no. 3, 1975, pp. 811-830.\n",
    "4. Adams, J., and R. van Deventer. \"Maximum Smoothness Forward Rates and Related Yields.\" Basic Building Blocks of Yield Curve Smoothing, SAS Risk Data and Analytics, 2012, pp. 1-15"
   ]
  }
 ],
 "metadata": {
  "kernelspec": {
   "display_name": "Python 3 (ipykernel)",
   "language": "python",
   "name": "python3"
  },
  "language_info": {
   "codemirror_mode": {
    "name": "ipython",
    "version": 3
   },
   "file_extension": ".py",
   "mimetype": "text/x-python",
   "name": "python",
   "nbconvert_exporter": "python",
   "pygments_lexer": "ipython3",
   "version": "3.12.3"
  }
 },
 "nbformat": 4,
 "nbformat_minor": 5
}
