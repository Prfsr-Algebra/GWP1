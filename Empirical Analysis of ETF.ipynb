{
 "cells": [
  {
   "cell_type": "code",
   "execution_count": 1,
   "id": "0af277ad-0a61-464a-a231-2358b96589cb",
   "metadata": {
    "tags": []
   },
   "outputs": [
    {
     "name": "stdout",
     "output_type": "stream",
     "text": [
      "Fetching data for PLD...\n"
     ]
    },
    {
     "name": "stderr",
     "output_type": "stream",
     "text": [
      "[*********************100%***********************]  1 of 1 completed\n",
      "[*********************100%***********************]  1 of 1 completed\n",
      "[*********************100%***********************]  1 of 1 completed\n"
     ]
    },
    {
     "name": "stdout",
     "output_type": "stream",
     "text": [
      "Data for PLD fetched successfully!\n",
      "Fetching data for EQIX...\n",
      "Data for EQIX fetched successfully!\n",
      "Fetching data for AMT...\n",
      "Data for AMT fetched successfully!\n",
      "Fetching data for WELL...\n"
     ]
    },
    {
     "name": "stderr",
     "output_type": "stream",
     "text": [
      "[*********************100%***********************]  1 of 1 completed\n",
      "[*********************100%***********************]  1 of 1 completed\n",
      "[*********************100%***********************]  1 of 1 completed\n"
     ]
    },
    {
     "name": "stdout",
     "output_type": "stream",
     "text": [
      "Data for WELL fetched successfully!\n",
      "Fetching data for DLR...\n",
      "Data for DLR fetched successfully!\n",
      "Fetching data for SPG...\n",
      "Data for SPG fetched successfully!\n",
      "Fetching data for O...\n"
     ]
    },
    {
     "name": "stderr",
     "output_type": "stream",
     "text": [
      "[*********************100%***********************]  1 of 1 completed\n",
      "[*********************100%***********************]  1 of 1 completed\n",
      "[*********************100%***********************]  1 of 1 completed\n"
     ]
    },
    {
     "name": "stdout",
     "output_type": "stream",
     "text": [
      "Data for O fetched successfully!\n",
      "Fetching data for PSA...\n",
      "Data for PSA fetched successfully!\n",
      "Fetching data for CCI...\n",
      "Data for CCI fetched successfully!\n",
      "Fetching data for CBRE...\n"
     ]
    },
    {
     "name": "stderr",
     "output_type": "stream",
     "text": [
      "[*********************100%***********************]  1 of 1 completed\n",
      "[*********************100%***********************]  1 of 1 completed\n",
      "[*********************100%***********************]  1 of 1 completed\n"
     ]
    },
    {
     "name": "stdout",
     "output_type": "stream",
     "text": [
      "Data for CBRE fetched successfully!\n",
      "Fetching data for EXR...\n",
      "Data for EXR fetched successfully!\n",
      "Fetching data for AVB...\n",
      "Data for AVB fetched successfully!\n",
      "Fetching data for VICI...\n"
     ]
    },
    {
     "name": "stderr",
     "output_type": "stream",
     "text": [
      "[*********************100%***********************]  1 of 1 completed\n",
      "[*********************100%***********************]  1 of 1 completed\n",
      "[*********************100%***********************]  1 of 1 completed\n"
     ]
    },
    {
     "name": "stdout",
     "output_type": "stream",
     "text": [
      "Data for VICI fetched successfully!\n",
      "Fetching data for IRM...\n",
      "Data for IRM fetched successfully!\n",
      "Fetching data for CSGP...\n",
      "Data for CSGP fetched successfully!\n",
      "Fetching data for VTR...\n"
     ]
    },
    {
     "name": "stderr",
     "output_type": "stream",
     "text": [
      "[*********************100%***********************]  1 of 1 completed\n",
      "[*********************100%***********************]  1 of 1 completed\n",
      "[*********************100%***********************]  1 of 1 completed\n"
     ]
    },
    {
     "name": "stdout",
     "output_type": "stream",
     "text": [
      "Data for VTR fetched successfully!\n",
      "Fetching data for EQR...\n",
      "Data for EQR fetched successfully!\n",
      "Fetching data for SBAC...\n",
      "Data for SBAC fetched successfully!\n",
      "Fetching data for WY...\n"
     ]
    },
    {
     "name": "stderr",
     "output_type": "stream",
     "text": [
      "[*********************100%***********************]  1 of 1 completed\n",
      "[*********************100%***********************]  1 of 1 completed\n",
      "[*********************100%***********************]  1 of 1 completed\n"
     ]
    },
    {
     "name": "stdout",
     "output_type": "stream",
     "text": [
      "Data for WY fetched successfully!\n",
      "Fetching data for ESS...\n",
      "Data for ESS fetched successfully!\n",
      "Fetching data for INVH...\n",
      "Data for INVH fetched successfully!\n",
      "Fetching data for MAA...\n"
     ]
    },
    {
     "name": "stderr",
     "output_type": "stream",
     "text": [
      "[*********************100%***********************]  1 of 1 completed\n",
      "[*********************100%***********************]  1 of 1 completed\n"
     ]
    },
    {
     "name": "stdout",
     "output_type": "stream",
     "text": [
      "Data for MAA fetched successfully!\n",
      "Fetching data for ARE...\n",
      "Data for ARE fetched successfully!\n",
      "Fetching data for KIM...\n"
     ]
    },
    {
     "name": "stderr",
     "output_type": "stream",
     "text": [
      "[*********************100%***********************]  1 of 1 completed\n",
      "[*********************100%***********************]  1 of 1 completed\n"
     ]
    },
    {
     "name": "stdout",
     "output_type": "stream",
     "text": [
      "Data for KIM fetched successfully!\n",
      "Fetching data for DOC...\n",
      "Data for DOC fetched successfully!\n",
      "Fetching data for UDR...\n"
     ]
    },
    {
     "name": "stderr",
     "output_type": "stream",
     "text": [
      "[*********************100%***********************]  1 of 1 completed\n"
     ]
    },
    {
     "name": "stdout",
     "output_type": "stream",
     "text": [
      "Data for UDR fetched successfully!\n",
      "Fetching data for HST...\n"
     ]
    },
    {
     "name": "stderr",
     "output_type": "stream",
     "text": [
      "[*********************100%***********************]  1 of 1 completed\n",
      "[*********************100%***********************]  1 of 1 completed\n"
     ]
    },
    {
     "name": "stdout",
     "output_type": "stream",
     "text": [
      "Data for HST fetched successfully!\n",
      "Fetching data for CPT...\n",
      "Data for CPT fetched successfully!\n",
      "Fetching data for REG...\n"
     ]
    },
    {
     "name": "stderr",
     "output_type": "stream",
     "text": [
      "[*********************100%***********************]  1 of 1 completed\n",
      "[*********************100%***********************]  1 of 1 completed"
     ]
    },
    {
     "name": "stdout",
     "output_type": "stream",
     "text": [
      "Data for REG fetched successfully!\n",
      "Fetching data for BXP...\n",
      "Data for BXP fetched successfully!\n",
      "Covariance matrix computed and saved to: etfdata/XLRE_Holdings_Covariance_Matrix.csv\n",
      "Displaying the covariance matrix:\n",
      "           PLD      EQIX       AMT      WELL       DLR       SPG         O   \n",
      "PLD   0.000242  0.000098  0.000118  0.000064  0.000062  0.000116  0.000078  \\\n",
      "EQIX  0.000098  0.000173  0.000098  0.000055  0.000159  0.000070  0.000037   \n",
      "AMT   0.000118  0.000098  0.000276  0.000061  0.000071  0.000061  0.000120   \n",
      "WELL  0.000064  0.000055  0.000061  0.000146  0.000059  0.000077  0.000059   \n",
      "DLR   0.000062  0.000159  0.000071  0.000059  0.000265  0.000073  0.000015   \n",
      "SPG   0.000116  0.000070  0.000061  0.000077  0.000073  0.000180  0.000067   \n",
      "O     0.000078  0.000037  0.000120  0.000059  0.000015  0.000067  0.000112   \n",
      "PSA   0.000129  0.000107  0.000176  0.000090  0.000097  0.000115  0.000108   \n",
      "CCI   0.000106  0.000074  0.000185  0.000066  0.000051  0.000063  0.000096   \n",
      "CBRE  0.000123  0.000094  0.000124  0.000055  0.000083  0.000102  0.000059   \n",
      "EXR   0.000129  0.000104  0.000169  0.000085  0.000093  0.000116  0.000105   \n",
      "AVB   0.000107  0.000088  0.000079  0.000083  0.000080  0.000090  0.000060   \n",
      "VICI  0.000102  0.000060  0.000116  0.000060  0.000047  0.000077  0.000086   \n",
      "IRM   0.000120  0.000152  0.000165  0.000110  0.000192  0.000130  0.000096   \n",
      "CSGP  0.000110  0.000069  0.000063  0.000025  0.000070  0.000071  0.000025   \n",
      "VTR   0.000068  0.000058  0.000084  0.000108  0.000051  0.000060  0.000070   \n",
      "EQR   0.000107  0.000083  0.000073  0.000083  0.000081  0.000096  0.000067   \n",
      "SBAC  0.000107  0.000091  0.000211  0.000041  0.000059  0.000062  0.000092   \n",
      "WY    0.000148  0.000085  0.000139  0.000030  0.000054  0.000099  0.000077   \n",
      "ESS   0.000131  0.000093  0.000073  0.000082  0.000078  0.000103  0.000058   \n",
      "INVH  0.000109  0.000063  0.000025  0.000065  0.000057  0.000085  0.000044   \n",
      "MAA   0.000098  0.000083  0.000092  0.000061  0.000069  0.000080  0.000069   \n",
      "ARE   0.000163  0.000077  0.000114  0.000055  0.000054  0.000120  0.000084   \n",
      "KIM   0.000121  0.000079  0.000112  0.000078  0.000071  0.000115  0.000083   \n",
      "DOC   0.000126  0.000088  0.000111  0.000087  0.000058  0.000105  0.000085   \n",
      "UDR   0.000108  0.000076  0.000073  0.000073  0.000067  0.000096  0.000064   \n",
      "HST   0.000099  0.000046  0.000002  0.000012  0.000051  0.000112  0.000021   \n",
      "CPT   0.000100  0.000079  0.000087  0.000065  0.000063  0.000080  0.000068   \n",
      "REG   0.000092  0.000056  0.000091  0.000077  0.000046  0.000091  0.000068   \n",
      "BXP   0.000154  0.000100  0.000100  0.000068  0.000100  0.000163  0.000075   \n",
      "\n",
      "           PSA       CCI      CBRE  ...      INVH       MAA       ARE   \n",
      "PLD   0.000129  0.000106  0.000123  ...  0.000109  0.000098  0.000163  \\\n",
      "EQIX  0.000107  0.000074  0.000094  ...  0.000063  0.000083  0.000077   \n",
      "AMT   0.000176  0.000185  0.000124  ...  0.000025  0.000092  0.000114   \n",
      "WELL  0.000090  0.000066  0.000055  ...  0.000065  0.000061  0.000055   \n",
      "DLR   0.000097  0.000051  0.000083  ...  0.000057  0.000069  0.000054   \n",
      "SPG   0.000115  0.000063  0.000102  ...  0.000085  0.000080  0.000120   \n",
      "O     0.000108  0.000096  0.000059  ...  0.000044  0.000069  0.000084   \n",
      "PSA   0.000227  0.000142  0.000134  ...  0.000068  0.000116  0.000140   \n",
      "CCI   0.000142  0.000185  0.000102  ...  0.000027  0.000082  0.000100   \n",
      "CBRE  0.000134  0.000102  0.000323  ... -0.000004  0.000072  0.000119   \n",
      "EXR   0.000204  0.000135  0.000135  ...  0.000065  0.000112  0.000145   \n",
      "AVB   0.000106  0.000061  0.000086  ...  0.000102  0.000110  0.000079   \n",
      "VICI  0.000116  0.000094  0.000098  ...  0.000047  0.000067  0.000104   \n",
      "IRM   0.000175  0.000112  0.000166  ...  0.000071  0.000120  0.000102   \n",
      "CSGP  0.000088  0.000052  0.000173  ...  0.000018  0.000060  0.000099   \n",
      "VTR   0.000094  0.000080  0.000051  ...  0.000050  0.000070  0.000068   \n",
      "EQR   0.000112  0.000062  0.000099  ...  0.000110  0.000105  0.000086   \n",
      "SBAC  0.000147  0.000167  0.000143  ...  0.000006  0.000080  0.000123   \n",
      "WY    0.000137  0.000119  0.000157  ...  0.000053  0.000077  0.000158   \n",
      "ESS   0.000116  0.000068  0.000102  ...  0.000113  0.000111  0.000091   \n",
      "INVH  0.000068  0.000027 -0.000004  ...  0.000204  0.000090  0.000060   \n",
      "MAA   0.000116  0.000082  0.000072  ...  0.000090  0.000135  0.000071   \n",
      "ARE   0.000140  0.000100  0.000119  ...  0.000060  0.000071  0.000262   \n",
      "KIM   0.000126  0.000098  0.000102  ...  0.000077  0.000085  0.000125   \n",
      "DOC   0.000130  0.000097  0.000110  ...  0.000078  0.000084  0.000150   \n",
      "UDR   0.000112  0.000062  0.000076  ...  0.000102  0.000106  0.000087   \n",
      "HST   0.000060 -0.000008  0.000113  ...  0.000064  0.000034  0.000122   \n",
      "CPT   0.000113  0.000075  0.000075  ...  0.000095  0.000124  0.000069   \n",
      "REG   0.000106  0.000077  0.000060  ...  0.000073  0.000074  0.000089   \n",
      "BXP   0.000138  0.000078  0.000177  ...  0.000079  0.000071  0.000191   \n",
      "\n",
      "           KIM       DOC       UDR       HST       CPT       REG       BXP  \n",
      "PLD   0.000121  0.000126  0.000108  0.000099  0.000100  0.000092  0.000154  \n",
      "EQIX  0.000079  0.000088  0.000076  0.000046  0.000079  0.000056  0.000100  \n",
      "AMT   0.000112  0.000111  0.000073  0.000002  0.000087  0.000091  0.000100  \n",
      "WELL  0.000078  0.000087  0.000073  0.000012  0.000065  0.000077  0.000068  \n",
      "DLR   0.000071  0.000058  0.000067  0.000051  0.000063  0.000046  0.000100  \n",
      "SPG   0.000115  0.000105  0.000096  0.000112  0.000080  0.000091  0.000163  \n",
      "O     0.000083  0.000085  0.000064  0.000021  0.000068  0.000068  0.000075  \n",
      "PSA   0.000126  0.000130  0.000112  0.000060  0.000113  0.000106  0.000138  \n",
      "CCI   0.000098  0.000097  0.000062 -0.000008  0.000075  0.000077  0.000078  \n",
      "CBRE  0.000102  0.000110  0.000076  0.000113  0.000075  0.000060  0.000177  \n",
      "EXR   0.000121  0.000139  0.000108  0.000064  0.000115  0.000103  0.000150  \n",
      "AVB   0.000089  0.000100  0.000116  0.000056  0.000112  0.000076  0.000099  \n",
      "VICI  0.000096  0.000090  0.000067  0.000051  0.000067  0.000067  0.000107  \n",
      "IRM   0.000136  0.000124  0.000116  0.000073  0.000115  0.000096  0.000157  \n",
      "CSGP  0.000086  0.000066  0.000064  0.000098  0.000055  0.000046  0.000158  \n",
      "VTR   0.000075  0.000091  0.000068  0.000002  0.000068  0.000078  0.000058  \n",
      "EQR   0.000085  0.000098  0.000121  0.000067  0.000110  0.000071  0.000105  \n",
      "SBAC  0.000099  0.000095  0.000057  0.000024  0.000067  0.000067  0.000127  \n",
      "WY    0.000110  0.000116  0.000081  0.000096  0.000081  0.000071  0.000157  \n",
      "ESS   0.000095  0.000107  0.000130  0.000067  0.000118  0.000079  0.000121  \n",
      "INVH  0.000077  0.000078  0.000102  0.000064  0.000095  0.000073  0.000079  \n",
      "MAA   0.000085  0.000084  0.000106  0.000034  0.000124  0.000074  0.000071  \n",
      "ARE   0.000125  0.000150  0.000087  0.000122  0.000069  0.000089  0.000191  \n",
      "KIM   0.000148  0.000110  0.000089  0.000080  0.000082  0.000100  0.000141  \n",
      "DOC   0.000110  0.000186  0.000096  0.000076  0.000095  0.000090  0.000156  \n",
      "UDR   0.000089  0.000096  0.000125  0.000065  0.000110  0.000076  0.000106  \n",
      "HST   0.000080  0.000076  0.000065  0.000246  0.000042  0.000041  0.000161  \n",
      "CPT   0.000082  0.000095  0.000110  0.000042  0.000137  0.000074  0.000081  \n",
      "REG   0.000100  0.000090  0.000076  0.000041  0.000074  0.000113  0.000091  \n",
      "BXP   0.000141  0.000156  0.000106  0.000161  0.000081  0.000091  0.000328  \n",
      "\n",
      "[30 rows x 30 columns]\n"
     ]
    },
    {
     "name": "stderr",
     "output_type": "stream",
     "text": [
      "\n"
     ]
    }
   ],
   "source": [
    "import pandas as pd\n",
    "import yfinance as yf\n",
    "\n",
    "# Specify the ETF ticker and date range\n",
    "ticker = 'XLRE'\n",
    "start_date = '2024-07-01'\n",
    "end_date = '2024-12-31'\n",
    "\n",
    "# Fetch the ETF holdings manually or via an online API (this step assumes we have a predefined list of holdings)\n",
    "holdings = [\n",
    "    'PLD', 'EQIX', 'AMT', 'WELL', 'DLR', 'SPG', 'O', 'PSA', 'CCI', 'CBRE',\n",
    "    'EXR', 'AVB', 'VICI', 'IRM', 'CSGP', 'VTR', 'EQR', 'SBAC', 'WY', 'ESS',\n",
    "    'INVH', 'MAA', 'ARE', 'KIM', 'DOC', 'UDR', 'HST', 'CPT', 'REG', 'BXP'\n",
    "]\n",
    "\n",
    "# Fetch historical price data for all holdings\n",
    "all_data = {}\n",
    "for holding in holdings:\n",
    "    print(f\"Fetching data for {holding}...\")\n",
    "    try:\n",
    "        data = yf.download(holding, start=start_date, end=end_date)\n",
    "        data['Daily_Returns'] = data['Close'].pct_change()\n",
    "        all_data[holding] = data['Daily_Returns']\n",
    "        print(f\"Data for {holding} fetched successfully!\")\n",
    "    except Exception as e:\n",
    "        print(f\"Error fetching data for {holding}: {e}\")\n",
    "\n",
    "# Combine the data into a single DataFrame\n",
    "returns_df = pd.DataFrame(all_data)\n",
    "\n",
    "# Drop rows with NaN values\n",
    "returns_df = returns_df.dropna()\n",
    "\n",
    "# Compute the covariance matrix\n",
    "cov_matrix = returns_df.cov()\n",
    "\n",
    "# Save the covariance matrix to a CSV file\n",
    "cov_output_file = 'etfdata/XLRE_Holdings_Covariance_Matrix.csv'\n",
    "cov_matrix.to_csv(cov_output_file)\n",
    "\n",
    "print(f\"Covariance matrix computed and saved to: {cov_output_file}\")\n",
    "\n",
    "# Display the covariance matrix\n",
    "print(\"Displaying the covariance matrix:\")\n",
    "print(cov_matrix)\n"
   ]
  },
  {
   "cell_type": "code",
   "execution_count": 2,
   "id": "1f39c5b2-57c9-4a9b-9b96-b49360219c45",
   "metadata": {
    "tags": []
   },
   "outputs": [
    {
     "name": "stdout",
     "output_type": "stream",
     "text": [
      "Performing PCA...\n",
      "PCA completed.\n",
      "Eigenvalues: [2.96434731e-03 5.29146684e-04 5.24179032e-04 3.74450791e-04\n",
      " 2.46364176e-04 1.95793386e-04 1.66421538e-04 1.24935882e-04\n",
      " 1.11947617e-04 1.06674279e-04 8.71470045e-05 8.00792008e-05\n",
      " 6.95598032e-05 6.71878436e-05 6.13022393e-05 5.14403018e-05\n",
      " 4.91260454e-05 4.21258116e-05 3.98885856e-05 3.82149865e-05\n",
      " 3.29917800e-05 2.58857014e-05 2.39912205e-05 2.04712486e-05\n",
      " 1.79354448e-05 1.66139455e-05 1.12955118e-05 8.56802169e-06\n",
      " 7.97479562e-06 6.45140603e-06]\n",
      "Explained Variance Ratio: [0.48575857 0.08670966 0.08589562 0.06136011 0.04037095 0.03208407\n",
      " 0.02727099 0.02047286 0.01834452 0.01748039 0.01428051 0.01312233\n",
      " 0.01139855 0.01100987 0.01004541 0.00842937 0.00805014 0.00690303\n",
      " 0.00653642 0.00626217 0.00540626 0.00424181 0.00393137 0.00335456\n",
      " 0.00293903 0.00272248 0.00185096 0.00140402 0.00130681 0.00105717]\n"
     ]
    }
   ],
   "source": [
    "from sklearn.decomposition import PCA\n",
    "import numpy as np\n",
    "\n",
    "# Perform PCA on the daily returns\n",
    "print(\"Performing PCA...\")\n",
    "pca = PCA()\n",
    "pca.fit(returns_df)\n",
    "\n",
    "# Extract PCA results\n",
    "eigenvalues = pca.explained_variance_\n",
    "eigenvectors = pca.components_\n",
    "explained_variance_ratio = pca.explained_variance_ratio_\n",
    "\n",
    "# Save PCA results to CSV files\n",
    "np.savetxt('etfdata/PCA_Eigenvalues.csv', eigenvalues, delimiter=',')\n",
    "np.savetxt('etfdata/PCA_Eigenvectors.csv', eigenvectors, delimiter=',')\n",
    "np.savetxt('etfdata/PCA_Explained_Variance_Ratio.csv', explained_variance_ratio, delimiter=',')\n",
    "\n",
    "print(\"PCA completed.\")\n",
    "print(\"Eigenvalues:\", eigenvalues)\n",
    "print(\"Explained Variance Ratio:\", explained_variance_ratio)\n"
   ]
  },
  {
   "cell_type": "code",
   "execution_count": 3,
   "id": "680fd44c-4e52-4562-ac54-4ea175b7cf81",
   "metadata": {
    "tags": []
   },
   "outputs": [
    {
     "name": "stdout",
     "output_type": "stream",
     "text": [
      "Performing SVD...\n",
      "SVD completed.\n",
      "Singular Values (Sigma): [0.61038801 0.25718633 0.25606936 0.21828746 0.17554649 0.15909967\n",
      " 0.14423152 0.12562303 0.11844206 0.11566354 0.10686279 0.10014129\n",
      " 0.09334947 0.0917205  0.08844379 0.08056252 0.07846066 0.07321125\n",
      " 0.07135243 0.0693344  0.06423506 0.05689221 0.05480635 0.05083874\n",
      " 0.04739841 0.04557295 0.03757755 0.03275304 0.03172439 0.0283986 ]\n"
     ]
    }
   ],
   "source": [
    "from numpy.linalg import svd\n",
    "import numpy as np\n",
    "\n",
    "# Perform Singular Value Decomposition (SVD) on the daily returns\n",
    "print(\"Performing SVD...\")\n",
    "U, Sigma, Vt = svd(returns_df, full_matrices=False)\n",
    "\n",
    "# Save SVD results to CSV files\n",
    "np.savetxt('etfdata/SVD_U.csv', U, delimiter=',')\n",
    "np.savetxt('etfdata/SVD_Sigma.csv', Sigma, delimiter=',')\n",
    "np.savetxt('etfdata/SVD_Vt.csv', Vt, delimiter=',')\n",
    "\n",
    "# Display the singular values\n",
    "print(\"SVD completed.\")\n",
    "print(\"Singular Values (Sigma):\", Sigma)"
   ]
  },
  {
   "cell_type": "code",
   "execution_count": null,
   "id": "f0ab26c7-e66b-40ef-8e2c-43f619f92419",
   "metadata": {},
   "outputs": [],
   "source": []
  }
 ],
 "metadata": {
  "kernelspec": {
   "display_name": "Python 3 (ipykernel)",
   "language": "python",
   "name": "python3"
  },
  "language_info": {
   "codemirror_mode": {
    "name": "ipython",
    "version": 3
   },
   "file_extension": ".py",
   "mimetype": "text/x-python",
   "name": "python",
   "nbconvert_exporter": "python",
   "pygments_lexer": "ipython3",
   "version": "3.11.0"
  }
 },
 "nbformat": 4,
 "nbformat_minor": 5
}
